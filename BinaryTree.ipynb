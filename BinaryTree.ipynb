{
 "cells": [
  {
   "cell_type": "markdown",
   "metadata": {},
   "source": [
    "# Binary Tree"
   ]
  },
  {
   "cell_type": "markdown",
   "metadata": {},
   "source": [
    "#### is a data structure in which each node has at most two children, referred to as the left child and the right child. Each node contains a value, a reference to the left child, and a reference to the right child."
   ]
  },
  {
   "cell_type": "markdown",
   "metadata": {},
   "source": [
    "## Usage"
   ]
  },
  {
   "cell_type": "markdown",
   "metadata": {},
   "source": [
    "#### Binary Trees are used in various applications due to their efficient data storage and retrieval capabilities. They are particularly useful in scenarios where data needs to be accessed, inserted, or deleted quickly."
   ]
  },
  {
   "cell_type": "markdown",
   "metadata": {},
   "source": [
    "## Sample Implementation"
   ]
  },
  {
   "cell_type": "code",
   "execution_count": 2,
   "metadata": {},
   "outputs": [],
   "source": [
    "class Node:\n",
    "    def __init__(self, key):\n",
    "        self.left = None\n",
    "        self.right = None\n",
    "        self.value = key\n",
    "\n",
    "root = Node(1)\n",
    "root.left = Node(2)\n",
    "root.right = Node(3)\n",
    "root.left.left = Node(4)\n",
    "root.left.right = Node(5)\n"
   ]
  },
  {
   "cell_type": "markdown",
   "metadata": {},
   "source": [
    "### Traversal Methods"
   ]
  },
  {
   "cell_type": "markdown",
   "metadata": {},
   "source": [
    "#### Binary tress can be traversed in differnet ways: \n",
    "\n",
    "#### 1. **In-order Traversal** (Left, Root, Right)\n",
    "#### 2. **Pre-order Traversal** (Root, Left, Right)\n",
    "#### 3. **Post-order Traversal** (Left, Right, Root)\n"
   ]
  },
  {
   "cell_type": "markdown",
   "metadata": {},
   "source": [
    "## Examples"
   ]
  },
  {
   "cell_type": "markdown",
   "metadata": {},
   "source": [
    "### 1. **Binary Search Tress** - A BST is a binary tree where the left subtree of a node contains only nodes with values less than the node's value, and the right subtree only nodes with values greater than the node's value."
   ]
  },
  {
   "cell_type": "code",
   "execution_count": 3,
   "metadata": {},
   "outputs": [],
   "source": [
    "def insert(node, key):\n",
    "    if node is None:\n",
    "        return Node(key)\n",
    "    if key < node.value:\n",
    "        node.left = insert(node.left, key)\n",
    "    else:\n",
    "        node.right = insert(node.right, key)\n",
    "    return node\n",
    "\n",
    "# Inserting values\n",
    "root = insert(root, 6)\n",
    "root = insert(root, 7)\n",
    "root = insert(root, 8)\n"
   ]
  },
  {
   "cell_type": "markdown",
   "metadata": {},
   "source": [
    "### 2. **Heaps** - A special tree-based data structure that satisfies the heap property. In a max heap, for any given node i, the value of i is greater than or equal to the values of its children. In a min heap, the value of i is less than or equal to the values of its children."
   ]
  },
  {
   "cell_type": "code",
   "execution_count": 5,
   "metadata": {},
   "outputs": [
    {
     "name": "stdout",
     "output_type": "stream",
     "text": [
      "5\n"
     ]
    }
   ],
   "source": [
    "import heapq\n",
    "\n",
    "heap = []\n",
    "heapq.heappush(heap, 10)\n",
    "heapq.heappush(heap, 5)\n",
    "heapq.heappush(heap, 20)\n",
    "print(heapq.heappop(heap))\n"
   ]
  },
  {
   "cell_type": "markdown",
   "metadata": {},
   "source": [
    "### 3. **Expression Trees** - A binary tree used to represent expressions. In these trees, the leaves are operands (numbers), and the other nodes are operators."
   ]
  },
  {
   "cell_type": "code",
   "execution_count": 6,
   "metadata": {},
   "outputs": [],
   "source": [
    "class ExpressionNode:\n",
    "    def __init__(self, value):\n",
    "        self.left = None\n",
    "        self.right = None\n",
    "        self.value = value\n",
    "\n",
    "# Constructing an expression tree for (3 + 5) * 2\n",
    "root = ExpressionNode('*')\n",
    "root.left = ExpressionNode('+')\n",
    "root.right = ExpressionNode(2)\n",
    "root.left.left = ExpressionNode(3)\n",
    "root.left.right = ExpressionNode(5)\n"
   ]
  },
  {
   "cell_type": "markdown",
   "metadata": {},
   "source": [
    "### 4. **Huffman Coding Trees** - A binary tree used in the compression algorithm known as Huffman Coding. It assigns variable-length codes to input characters, with shorter codes assigned to more frequent characters."
   ]
  },
  {
   "cell_type": "code",
   "execution_count": 7,
   "metadata": {},
   "outputs": [
    {
     "ename": "TypeError",
     "evalue": "'<' not supported between instances of 'HuffmanNode' and 'HuffmanNode'",
     "output_type": "error",
     "traceback": [
      "\u001b[1;31m---------------------------------------------------------------------------\u001b[0m",
      "\u001b[1;31mTypeError\u001b[0m                                 Traceback (most recent call last)",
      "Cell \u001b[1;32mIn[7], line 11\u001b[0m\n\u001b[0;32m      9\u001b[0m \u001b[38;5;66;03m# Creating a Huffman tree from frequency data\u001b[39;00m\n\u001b[0;32m     10\u001b[0m heap \u001b[38;5;241m=\u001b[39m [HuffmanNode(\u001b[38;5;241m5\u001b[39m, \u001b[38;5;124m'\u001b[39m\u001b[38;5;124ma\u001b[39m\u001b[38;5;124m'\u001b[39m), HuffmanNode(\u001b[38;5;241m9\u001b[39m, \u001b[38;5;124m'\u001b[39m\u001b[38;5;124mb\u001b[39m\u001b[38;5;124m'\u001b[39m), HuffmanNode(\u001b[38;5;241m12\u001b[39m, \u001b[38;5;124m'\u001b[39m\u001b[38;5;124mc\u001b[39m\u001b[38;5;124m'\u001b[39m), HuffmanNode(\u001b[38;5;241m13\u001b[39m, \u001b[38;5;124m'\u001b[39m\u001b[38;5;124md\u001b[39m\u001b[38;5;124m'\u001b[39m), HuffmanNode(\u001b[38;5;241m16\u001b[39m, \u001b[38;5;124m'\u001b[39m\u001b[38;5;124me\u001b[39m\u001b[38;5;124m'\u001b[39m)]\n\u001b[1;32m---> 11\u001b[0m \u001b[43mheapq\u001b[49m\u001b[38;5;241;43m.\u001b[39;49m\u001b[43mheapify\u001b[49m\u001b[43m(\u001b[49m\u001b[43mheap\u001b[49m\u001b[43m)\u001b[49m\n\u001b[0;32m     12\u001b[0m \u001b[38;5;28;01mwhile\u001b[39;00m \u001b[38;5;28mlen\u001b[39m(heap) \u001b[38;5;241m>\u001b[39m \u001b[38;5;241m1\u001b[39m:\n\u001b[0;32m     13\u001b[0m     left \u001b[38;5;241m=\u001b[39m heapq\u001b[38;5;241m.\u001b[39mheappop(heap)\n",
      "\u001b[1;31mTypeError\u001b[0m: '<' not supported between instances of 'HuffmanNode' and 'HuffmanNode'"
     ]
    }
   ],
   "source": [
    "import heapq\n",
    "class HuffmanNode:\n",
    "    def __init__(self, frequency, symbol, left=None, right=None):\n",
    "        self.frequency = frequency\n",
    "        self.symbol = symbol\n",
    "        self.left = left\n",
    "        self.right = right\n",
    "\n",
    "# Creating a Huffman tree from frequency data\n",
    "heap = [HuffmanNode(5, 'a'), HuffmanNode(9, 'b'), HuffmanNode(12, 'c'), HuffmanNode(13, 'd'), HuffmanNode(16, 'e')]\n",
    "heapq.heapify(heap)\n",
    "while len(heap) > 1:\n",
    "    left = heapq.heappop(heap)\n",
    "    right = heapq.heappop(heap)\n",
    "    merged = HuffmanNode(left.frequency + right.frequency, None, left, right)\n",
    "    heapq.heappush(heap, merged)\n"
   ]
  },
  {
   "cell_type": "markdown",
   "metadata": {},
   "source": [
    "### 5. **AVL Trees** - A self-balancing binary search tree where the difference between the heights of left and right subtrees cannot be more than one for all nodes."
   ]
  },
  {
   "cell_type": "code",
   "execution_count": 8,
   "metadata": {},
   "outputs": [],
   "source": [
    "class AVLNode:\n",
    "    def __init__(self, key):\n",
    "        self.key = key\n",
    "        self.left = None\n",
    "        self.right = None\n",
    "        self.height = 1\n",
    "\n",
    "def insert(root, key):\n",
    "    if not root:\n",
    "        return AVLNode(key)\n",
    "    if key < root.key:\n",
    "        root.left = insert(root.left, key)\n",
    "    else:\n",
    "        root.right = insert(root.right, key)\n",
    "\n",
    "    root.height = 1 + max(height(root.left), height(root.right))\n",
    "    balance = get_balance(root)\n",
    "    # Balance the tree if needed (rotations not shown for brevity)\n",
    "    return root\n",
    "\n",
    "def height(node):\n",
    "    if not node:\n",
    "        return 0\n",
    "    return node.height\n",
    "\n",
    "def get_balance(node):\n",
    "    if not node:\n",
    "        return 0\n",
    "    return height(node.left) - height(node.right)\n"
   ]
  },
  {
   "cell_type": "code",
   "execution_count": null,
   "metadata": {},
   "outputs": [],
   "source": []
  }
 ],
 "metadata": {
  "kernelspec": {
   "display_name": "Python 3",
   "language": "python",
   "name": "python3"
  },
  "language_info": {
   "codemirror_mode": {
    "name": "ipython",
    "version": 3
   },
   "file_extension": ".py",
   "mimetype": "text/x-python",
   "name": "python",
   "nbconvert_exporter": "python",
   "pygments_lexer": "ipython3",
   "version": "3.11.4"
  }
 },
 "nbformat": 4,
 "nbformat_minor": 2
}
