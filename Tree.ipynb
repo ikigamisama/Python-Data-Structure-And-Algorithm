{
 "cells": [
  {
   "cell_type": "markdown",
   "metadata": {},
   "source": [
    "# Tree"
   ]
  },
  {
   "cell_type": "markdown",
   "metadata": {},
   "source": [
    "####  is a hierarchical data structure that consists of nodes connected by edges. Unlike binary trees, a general tree can have any number of child nodes. Each node in the tree represents an element, and each edge represents a parent-child relationship. The topmost node is called the root, and nodes with no children are called leaves.\n",
    "\n",
    "\n",
    "## Key Concepts\n",
    "\n",
    "#### 1. **Node**: An element of the tree containing data and references to its children.\n",
    "#### 2. **Root**: The topmost node in the tree.\n",
    "#### 3. **Leaf**: A node with no children.\n",
    "#### 4. **Height**: The length of the longest path from the root to a leaf."
   ]
  },
  {
   "cell_type": "markdown",
   "metadata": {},
   "source": [
    "## Sample Implementation"
   ]
  },
  {
   "cell_type": "code",
   "execution_count": 1,
   "metadata": {},
   "outputs": [
    {
     "name": "stdout",
     "output_type": "stream",
     "text": [
      "Root\n",
      "  Child 1\n",
      "    Child 1.1\n",
      "    Child 1.2\n",
      "  Child 2\n",
      "    Child 2.1\n"
     ]
    }
   ],
   "source": [
    "class TreeNode:\n",
    "    def __init__(self, value):\n",
    "        self.value = value\n",
    "        self.children = []\n",
    "\n",
    "    def add_child(self, child_node):\n",
    "        self.children.append(child_node)\n",
    "\n",
    "    def remove_child(self, child_node):\n",
    "        self.children = [child for child in self.children if child != child_node]\n",
    "\n",
    "    def display(self, level=0):\n",
    "        print(\" \" * level * 2 + str(self.value))\n",
    "        for child in self.children:\n",
    "            child.display(level + 1)\n",
    "\n",
    "\n",
    "root = TreeNode(\"Root\")\n",
    "child1 = TreeNode(\"Child 1\")\n",
    "child2 = TreeNode(\"Child 2\")\n",
    "child1.add_child(TreeNode(\"Child 1.1\"))\n",
    "child1.add_child(TreeNode(\"Child 1.2\"))\n",
    "child2.add_child(TreeNode(\"Child 2.1\"))\n",
    "\n",
    "root.add_child(child1)\n",
    "root.add_child(child2)\n",
    "root.display()\n",
    "\n",
    "        "
   ]
  },
  {
   "cell_type": "markdown",
   "metadata": {},
   "source": [
    "## Usage"
   ]
  },
  {
   "cell_type": "markdown",
   "metadata": {},
   "source": [
    "#### 1. **File Systems**: Used to represent directories and files in an operating system.\n",
    "#### 2. **Hierarchical Data**: Useful for representing hierarchical data such as organizational structures.\n",
    "#### 3. **XML/HTML Parsing**: Used in parsing and manipulating XML/HTML documents.\n",
    "#### 4. **Game Development**: Used to manage game objects and their relationships.\n",
    "#### 5. **Expression Trees**: Used to represent and evaluate mathematical expressions."
   ]
  },
  {
   "cell_type": "markdown",
   "metadata": {},
   "source": [
    "## Examples"
   ]
  },
  {
   "cell_type": "markdown",
   "metadata": {},
   "source": [
    "### 1. File System Representation"
   ]
  },
  {
   "cell_type": "code",
   "execution_count": 2,
   "metadata": {},
   "outputs": [
    {
     "name": "stdout",
     "output_type": "stream",
     "text": [
      "[Dir] root\n",
      "  [Dir] home\n",
      "    [Dir] user\n",
      "      [File] file1.txt\n",
      "      [File] file2.txt\n"
     ]
    }
   ],
   "source": [
    "class FileNode:\n",
    "    def __init__(self, name, is_file=False):\n",
    "        self.name = name\n",
    "        self.is_file = is_file\n",
    "        self.children = []\n",
    "\n",
    "    def add_child(self, child_node):\n",
    "        self.children.append(child_node)\n",
    "\n",
    "    def display(self, level=0):\n",
    "        print(' ' * level * 2 + (\"[File] \" if self.is_file else \"[Dir] \") + self.name)\n",
    "        for child in self.children:\n",
    "            child.display(level + 1)\n",
    "\n",
    "# Example Usage\n",
    "root = FileNode(\"root\")\n",
    "home = FileNode(\"home\")\n",
    "user = FileNode(\"user\")\n",
    "file1 = FileNode(\"file1.txt\", is_file=True)\n",
    "file2 = FileNode(\"file2.txt\", is_file=True)\n",
    "\n",
    "user.add_child(file1)\n",
    "user.add_child(file2)\n",
    "home.add_child(user)\n",
    "root.add_child(home)\n",
    "root.display()\n"
   ]
  },
  {
   "cell_type": "markdown",
   "metadata": {},
   "source": [
    "### 2. Organizational Structure"
   ]
  },
  {
   "cell_type": "code",
   "execution_count": 3,
   "metadata": {},
   "outputs": [
    {
     "name": "stdout",
     "output_type": "stream",
     "text": [
      "CEO: Alice\n",
      "  CTO: Bob\n",
      "    Developer: Charlie\n",
      "    Developer: David\n"
     ]
    }
   ],
   "source": [
    "class EmployeeNode:\n",
    "    def __init__(self, name, position):\n",
    "        self.name = name\n",
    "        self.position = position\n",
    "        self.children = []\n",
    "\n",
    "    def add_subordinate(self, subordinate):\n",
    "        self.children.append(subordinate)\n",
    "\n",
    "    def display(self, level=0):\n",
    "        print(' ' * level * 2 + f\"{self.position}: {self.name}\")\n",
    "        for child in self.children:\n",
    "            child.display(level + 1)\n",
    "\n",
    "# Example Usage\n",
    "ceo = EmployeeNode(\"Alice\", \"CEO\")\n",
    "cto = EmployeeNode(\"Bob\", \"CTO\")\n",
    "dev1 = EmployeeNode(\"Charlie\", \"Developer\")\n",
    "dev2 = EmployeeNode(\"David\", \"Developer\")\n",
    "cto.add_subordinate(dev1)\n",
    "cto.add_subordinate(dev2)\n",
    "ceo.add_subordinate(cto)\n",
    "ceo.display()\n"
   ]
  },
  {
   "cell_type": "markdown",
   "metadata": {},
   "source": [
    "### 3. XML/HTML Parsing"
   ]
  },
  {
   "cell_type": "code",
   "execution_count": 4,
   "metadata": {},
   "outputs": [
    {
     "name": "stdout",
     "output_type": "stream",
     "text": [
      "<html>\n",
      "  <body>\n",
      "    <div>Hello, World!\n",
      "    </div>\n",
      "  </body>\n",
      "</html>\n"
     ]
    }
   ],
   "source": [
    "class XMLNode:\n",
    "    def __init__(self, tag, content=\"\"):\n",
    "        self.tag = tag\n",
    "        self.content = content\n",
    "        self.children = []\n",
    "\n",
    "    def add_child(self, child_node):\n",
    "        self.children.append(child_node)\n",
    "\n",
    "    def display(self, level=0):\n",
    "        print(' ' * level * 2 + f\"<{self.tag}>{self.content}\")\n",
    "        for child in self.children:\n",
    "            child.display(level + 1)\n",
    "        print(' ' * level * 2 + f\"</{self.tag}>\")\n",
    "\n",
    "# Example Usage\n",
    "root = XMLNode(\"html\")\n",
    "body = XMLNode(\"body\")\n",
    "div = XMLNode(\"div\", \"Hello, World!\")\n",
    "body.add_child(div)\n",
    "root.add_child(body)\n",
    "root.display()\n"
   ]
  },
  {
   "cell_type": "markdown",
   "metadata": {},
   "source": [
    "### 4. Game Object Management"
   ]
  },
  {
   "cell_type": "code",
   "execution_count": 5,
   "metadata": {},
   "outputs": [
    {
     "name": "stdout",
     "output_type": "stream",
     "text": [
      "Game\n",
      "  Scene 1\n",
      "    Player\n",
      "    Enemy\n"
     ]
    }
   ],
   "source": [
    "class GameObject:\n",
    "    def __init__(self, name):\n",
    "        self.name = name\n",
    "        self.children = []\n",
    "\n",
    "    def add_child(self, child):\n",
    "        self.children.append(child)\n",
    "\n",
    "    def display(self, level=0):\n",
    "        print(' ' * level * 2 + self.name)\n",
    "        for child in self.children:\n",
    "            child.display(level + 1)\n",
    "\n",
    "# Example Usage\n",
    "game = GameObject(\"Game\")\n",
    "scene1 = GameObject(\"Scene 1\")\n",
    "player = GameObject(\"Player\")\n",
    "enemy = GameObject(\"Enemy\")\n",
    "scene1.add_child(player)\n",
    "scene1.add_child(enemy)\n",
    "game.add_child(scene1)\n",
    "game.display()\n"
   ]
  },
  {
   "cell_type": "markdown",
   "metadata": {},
   "source": [
    "### 5. Expression Tree"
   ]
  },
  {
   "cell_type": "code",
   "execution_count": 6,
   "metadata": {},
   "outputs": [
    {
     "name": "stdout",
     "output_type": "stream",
     "text": [
      "13\n"
     ]
    }
   ],
   "source": [
    "class ExpressionNode:\n",
    "    def __init__(self, value):\n",
    "        self.value = value\n",
    "        self.children = []\n",
    "\n",
    "    def add_child(self, child_node):\n",
    "        self.children.append(child_node)\n",
    "\n",
    "    def evaluate(self):\n",
    "        if not self.children:\n",
    "            return int(self.value)\n",
    "        left_value = self.children[0].evaluate()\n",
    "        right_value = self.children[1].evaluate()\n",
    "        if self.value == \"+\":\n",
    "            return left_value + right_value\n",
    "        elif self.value == \"-\":\n",
    "            return left_value - right_value\n",
    "        elif self.value == \"*\":\n",
    "            return left_value * right_value\n",
    "        elif self.value == \"/\":\n",
    "            return left_value / right_value\n",
    "\n",
    "# Example Usage\n",
    "root = ExpressionNode(\"+\")\n",
    "root.add_child(ExpressionNode(\"3\"))\n",
    "right = ExpressionNode(\"*\")\n",
    "right.add_child(ExpressionNode(\"5\"))\n",
    "right.add_child(ExpressionNode(\"2\"))\n",
    "root.add_child(right)\n",
    "print(root.evaluate())  # Output: 13\n"
   ]
  },
  {
   "cell_type": "markdown",
   "metadata": {},
   "source": []
  }
 ],
 "metadata": {
  "kernelspec": {
   "display_name": "Python 3",
   "language": "python",
   "name": "python3"
  },
  "language_info": {
   "codemirror_mode": {
    "name": "ipython",
    "version": 3
   },
   "file_extension": ".py",
   "mimetype": "text/x-python",
   "name": "python",
   "nbconvert_exporter": "python",
   "pygments_lexer": "ipython3",
   "version": "3.11.4"
  }
 },
 "nbformat": 4,
 "nbformat_minor": 2
}
