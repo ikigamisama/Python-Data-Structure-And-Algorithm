{
 "cells": [
  {
   "cell_type": "markdown",
   "metadata": {},
   "source": [
    "# Stack "
   ]
  },
  {
   "cell_type": "markdown",
   "metadata": {},
   "source": [
    "#### is a linear data structure that follows the Last-In-First-Out (LIFO) principle. This means that the last element added to the stack is the first one to be removed. The main operations of a stack are:\n",
    "\n",
    "#### 1. **Push**: Add an element to the top of the stack.\n",
    "#### 2. **Pop**: Remove the element from the top of the stack.\n",
    "#### 3. **Peek/Top**: Get the top element of the stack without removing it.\n",
    "#### 4. **IsEmpty**: Check if the stack is empty."
   ]
  },
  {
   "cell_type": "markdown",
   "metadata": {},
   "source": [
    "## Sample Implementation"
   ]
  },
  {
   "cell_type": "code",
   "execution_count": 1,
   "metadata": {},
   "outputs": [
    {
     "name": "stdout",
     "output_type": "stream",
     "text": [
      "[1, 2, 3]\n",
      "3\n",
      "[1, 2]\n",
      "2\n"
     ]
    }
   ],
   "source": [
    "class Stack:\n",
    "    def __init__(self) :\n",
    "        self.stack = []\n",
    "    \n",
    "    def push(self, item):\n",
    "        self.stack.append(item)\n",
    "\n",
    "    def pop(self):\n",
    "        if not self.is_empty():\n",
    "            return self.stack.pop()\n",
    "        return None\n",
    "\n",
    "    def top(self):\n",
    "        if not self.is_empty():\n",
    "            return self.stack[-1]\n",
    "        return None\n",
    "    \n",
    "    def is_empty(self):\n",
    "        return len(self.stack) == 0\n",
    "    \n",
    "    def display(self):\n",
    "        print(self.stack)\n",
    "\n",
    "\n",
    "stack = Stack()\n",
    "stack.push(1)\n",
    "stack.push(2)\n",
    "stack.push(3)\n",
    "stack.display()  # Output: [1, 2, 3]\n",
    "print(stack.pop())  # Output: 3\n",
    "stack.display()  # Output: [1, 2]\n",
    "print(stack.top())  # Output: 2"
   ]
  },
  {
   "cell_type": "markdown",
   "metadata": {},
   "source": [
    "## Usage"
   ]
  },
  {
   "cell_type": "markdown",
   "metadata": {},
   "source": [
    "#### 1. **Function Call Management**: Used in managing function calls in programming languages, where each function call is pushed onto the stack and popped when the function exits.\n",
    "#### 2. **Expression Evaluation**: Used in evaluating arithmetic expressions and parsing expressions.\n",
    "#### 3. **Undo Mechanism**: Provides an efficient way to implement the undo functionality in applications like text editors.\n",
    "#### 4. **Balanced Parentheses**: Used to check for balanced parentheses in expressions.\n",
    "#### 5. **Backtracking**: Used in algorithms that require backtracking, such as solving mazes, puzzles, and pathfinding."
   ]
  },
  {
   "cell_type": "markdown",
   "metadata": {},
   "source": [
    "## Example"
   ]
  },
  {
   "cell_type": "markdown",
   "metadata": {},
   "source": [
    "### 1. Checking Balanced Parentheses"
   ]
  },
  {
   "cell_type": "code",
   "execution_count": 2,
   "metadata": {},
   "outputs": [
    {
     "name": "stdout",
     "output_type": "stream",
     "text": [
      "True\n",
      "False\n"
     ]
    }
   ],
   "source": [
    "def is_balanced(expression):\n",
    "    stack = Stack()\n",
    "    pairs = {')': '(', '}': '{', ']': '['}\n",
    "\n",
    "    for char in expression:\n",
    "        if char in pairs.values():\n",
    "            stack.push(char)\n",
    "        elif char in pairs.keys():\n",
    "            if stack.is_empty() or stack.pop() != pairs[char]:\n",
    "                return False\n",
    "            \n",
    "    return stack.is_empty()\n",
    "\n",
    "print(is_balanced(\"(){}[]\"))\n",
    "print(is_balanced(\"({[)]\"))"
   ]
  },
  {
   "cell_type": "markdown",
   "metadata": {},
   "source": [
    "### 2. Reversing a String"
   ]
  },
  {
   "cell_type": "code",
   "execution_count": 3,
   "metadata": {},
   "outputs": [
    {
     "name": "stdout",
     "output_type": "stream",
     "text": [
      "olleh\n"
     ]
    }
   ],
   "source": [
    "def reverse_string(s):\n",
    "    stack = Stack()\n",
    "    for char in s:\n",
    "        stack.push(char)\n",
    "    reverse_str = \"\"\n",
    "    while not stack.is_empty():\n",
    "        reverse_str += stack.pop()\n",
    "    return reverse_str\n",
    "\n",
    "print(reverse_string(\"hello\"))"
   ]
  },
  {
   "cell_type": "markdown",
   "metadata": {},
   "source": [
    "### 3. Implementing a Queue using Two Stacks"
   ]
  },
  {
   "cell_type": "code",
   "execution_count": 4,
   "metadata": {},
   "outputs": [
    {
     "name": "stdout",
     "output_type": "stream",
     "text": [
      "1\n",
      "2\n"
     ]
    }
   ],
   "source": [
    "class QueueWithStacks:\n",
    "    def __init__(self):\n",
    "        self.stack1 = Stack()\n",
    "        self.stack2 = Stack()\n",
    "\n",
    "    def enqueue(self, item):\n",
    "        self.stack1.push(item)\n",
    "\n",
    "    def dequeue(self):\n",
    "        if self.stack2.is_empty():\n",
    "            while not self.stack1.is_empty():\n",
    "                self.stack2.push(self.stack1.pop())\n",
    "        return self.stack2.pop()\n",
    "\n",
    "# Example Usage\n",
    "queue = QueueWithStacks()\n",
    "queue.enqueue(1)\n",
    "queue.enqueue(2)\n",
    "queue.enqueue(3)\n",
    "print(queue.dequeue())  \n",
    "print(queue.dequeue())  \n"
   ]
  },
  {
   "cell_type": "markdown",
   "metadata": {},
   "source": [
    "### 4. Evaluating Postfix Expression"
   ]
  },
  {
   "cell_type": "code",
   "execution_count": 5,
   "metadata": {},
   "outputs": [
    {
     "name": "stdout",
     "output_type": "stream",
     "text": [
      "-4\n"
     ]
    }
   ],
   "source": [
    "def evaluate_postfix(expression):\n",
    "    stack = Stack()\n",
    "    for char in expression:\n",
    "        if char.isdigit():\n",
    "            stack.push(int(char))\n",
    "        else:\n",
    "            b = stack.pop()\n",
    "            a = stack.pop()\n",
    "            if char == '+':\n",
    "                stack.push(a + b)\n",
    "            elif char == '-':\n",
    "                stack.push(a - b)\n",
    "            elif char == '*':\n",
    "                stack.push(a * b)\n",
    "            elif char == '/':\n",
    "                stack.push(a / b)\n",
    "    return stack.pop()\n",
    "\n",
    "# Example Usage\n",
    "print(evaluate_postfix(\"231*+9-\"))\n"
   ]
  },
  {
   "cell_type": "markdown",
   "metadata": {},
   "source": [
    "### 5. Backtracking Algorithm (Maze Solver)"
   ]
  },
  {
   "cell_type": "code",
   "execution_count": 7,
   "metadata": {},
   "outputs": [
    {
     "name": "stdout",
     "output_type": "stream",
     "text": [
      "[(0, 0), (1, 0), (2, 0), (2, 1), (2, 2), (1, 2), (0, 2), (0, 3), (0, 4), (1, 4), (2, 4), (3, 4), (4, 4)]\n"
     ]
    }
   ],
   "source": [
    "def solve_maze(maze, start, end):\n",
    "    stack = Stack()\n",
    "    stack.push((start, [start]))  # (current_position, path_taken)\n",
    "    \n",
    "    rows = len(maze)\n",
    "    cols = len(maze[0])\n",
    "    \n",
    "    while not stack.is_empty():\n",
    "        position, path = stack.pop()\n",
    "        \n",
    "        if position == end:\n",
    "            return path\n",
    "        \n",
    "        x, y = position\n",
    "        for move in [(0, 1), (1, 0), (0, -1), (-1, 0)]:\n",
    "            next_position = (x + move[0], y + move[1])\n",
    "            \n",
    "            # Check if next_position is within maze boundaries\n",
    "            if 0 <= next_position[0] < rows and 0 <= next_position[1] < cols:\n",
    "                if maze[next_position[0]][next_position[1]] == 0 and next_position not in path:\n",
    "                    stack.push((next_position, path + [next_position]))\n",
    "    \n",
    "    return None\n",
    "\n",
    "# Example Usage\n",
    "maze = [\n",
    "    [0, 1, 0, 0, 0],\n",
    "    [0, 1, 0, 1, 0],\n",
    "    [0, 0, 0, 1, 0],\n",
    "    [1, 1, 0, 1, 0],\n",
    "    [0, 0, 0, 0, 0]\n",
    "]\n",
    "start = (0, 0)\n",
    "end = (4, 4)\n",
    "print(solve_maze(maze, start, end))  \n"
   ]
  },
  {
   "cell_type": "code",
   "execution_count": null,
   "metadata": {},
   "outputs": [],
   "source": []
  }
 ],
 "metadata": {
  "kernelspec": {
   "display_name": "Python 3",
   "language": "python",
   "name": "python3"
  },
  "language_info": {
   "codemirror_mode": {
    "name": "ipython",
    "version": 3
   },
   "file_extension": ".py",
   "mimetype": "text/x-python",
   "name": "python",
   "nbconvert_exporter": "python",
   "pygments_lexer": "ipython3",
   "version": "3.11.4"
  }
 },
 "nbformat": 4,
 "nbformat_minor": 2
}
