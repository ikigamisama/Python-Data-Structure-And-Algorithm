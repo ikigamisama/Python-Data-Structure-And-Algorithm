{
 "cells": [
  {
   "cell_type": "markdown",
   "metadata": {},
   "source": [
    "# Big O Notation"
   ]
  },
  {
   "cell_type": "markdown",
   "metadata": {},
   "source": [
    "#####  is a mathematical concept used to describe the efficiency of an algorithm in terms of time and space complexity. It helps to understand the performance of an algorithm as the size of the input data grows. In the context of data structures and algorithms in Python (or any programming language), Big-O Notation provides a high-level understanding of the computational cost of an algorithm, which includes how the execution time or space requirements increase as the input size increases.\n",
    "\n",
    "\n",
    "####  Big-O Notation is used to classify algorithms according to how their running time or space requirements grow as the input size grows. Here are some common Big-O complexities:"
   ]
  },
  {
   "cell_type": "markdown",
   "metadata": {},
   "source": [
    "\n",
    "##### 1. O(1) - **Constant Time**: The running time or space remains constant regardless of the input size.\n",
    "##### 2. O(log n) - **Logarithmic Time**: The running time grows logarithmically with the input size. Common in binary search algorithms.\n",
    "##### 3. O(n) - **Linear Time**: The running time grows linearly with the input size. Common in simple loops over the input.\n",
    "##### 4. O(n log n) - **Linearithmic Time**: The running time grows in proportion to n log n. Common in efficient sorting algorithms like mergesort and heapsort.\n",
    "##### 5. O(n^2) - **Quadratic Time**: The running time grows quadratically with the input size. Common in algorithms with nested loops, like bubble sort.\n",
    "##### 6. O(2^n) - **Exponential Time**: The running time grows exponentially with the input size. Common in algorithms that solve problems by exhaustive search, like certain recursive algorithms.\n",
    "##### 7. O(n!) - **Factorial Time**: The running time grows factorially with the input size. Common in algorithms that generate all permutations of a set."
   ]
  },
  {
   "cell_type": "markdown",
   "metadata": {},
   "source": [
    "## Examples in Python"
   ]
  },
  {
   "cell_type": "markdown",
   "metadata": {},
   "source": [
    "### 1. O(1) - Constant Time\n",
    "\n",
    "##### The running time or space remains constant regardless of the input size."
   ]
  },
  {
   "cell_type": "markdown",
   "metadata": {},
   "source": [
    "**Example:**\n",
    "Accessing an element in an array value"
   ]
  },
  {
   "cell_type": "code",
   "execution_count": 1,
   "metadata": {},
   "outputs": [],
   "source": [
    "def get_first_element(arr):\n",
    "    return arr[0]"
   ]
  },
  {
   "cell_type": "markdown",
   "metadata": {},
   "source": [
    "In this function, no matter how large the array is, accessing the first element takes a constant amount of time."
   ]
  },
  {
   "cell_type": "markdown",
   "metadata": {},
   "source": [
    "### 2. O(log n) - Logarithmic Time\n",
    "\n",
    "##### The running time grows logarithmically with the input size. Often occurs in divide-and-conquer algorithms like binary search.."
   ]
  },
  {
   "cell_type": "markdown",
   "metadata": {},
   "source": [
    "**Example:**\n",
    "Binary search in a sorted array."
   ]
  },
  {
   "cell_type": "code",
   "execution_count": 2,
   "metadata": {},
   "outputs": [],
   "source": [
    "def binary_search(arr, target):\n",
    "    left, right = 0, len(arr) - 1\n",
    "    while left <= right:\n",
    "        mid = (left + right) // 2\n",
    "        if arr[mid] == target:\n",
    "            return mid\n",
    "        elif arr[mid] < target:\n",
    "            left = mid + 1\n",
    "        else:\n",
    "            right = mid - 1\n",
    "    return -1"
   ]
  },
  {
   "cell_type": "markdown",
   "metadata": {},
   "source": [
    "In this function, the array is repeatedly divided in half, leading to a logarithmic time complexity."
   ]
  },
  {
   "cell_type": "markdown",
   "metadata": {},
   "source": [
    "### 3. O(n) - Linear Time\n",
    "\n",
    "##### The running time grows linearly with the input size."
   ]
  },
  {
   "cell_type": "markdown",
   "metadata": {},
   "source": [
    "**Example:**\n",
    "Summing all elements in an array."
   ]
  },
  {
   "cell_type": "code",
   "execution_count": 3,
   "metadata": {},
   "outputs": [],
   "source": [
    "def sum_elements(arr):\n",
    "    total = 0\n",
    "    for num in arr:\n",
    "        total += num\n",
    "    return total"
   ]
  },
  {
   "cell_type": "markdown",
   "metadata": {},
   "source": [
    "In this function, each element of the array is visited once, so the time complexity is linear."
   ]
  },
  {
   "cell_type": "markdown",
   "metadata": {},
   "source": [
    "### 4. O(n log n) - Linearithmic Time\n",
    "\n",
    "##### The running time grows in proportion to n log n. Common in efficient sorting algorithms like mergesort and heapsort."
   ]
  },
  {
   "cell_type": "markdown",
   "metadata": {},
   "source": [
    "**Example:**\n",
    "Merge sort algorith"
   ]
  },
  {
   "cell_type": "code",
   "execution_count": 4,
   "metadata": {},
   "outputs": [],
   "source": [
    "def merge_sort(arr):\n",
    "    if len(arr) > 1:\n",
    "        mid = len(arr) // 2\n",
    "        left_half = arr[:mid]\n",
    "        right_half = arr[mid:]\n",
    "\n",
    "        merge_sort(left_half)\n",
    "        merge_sort(right_half)\n",
    "\n",
    "        i = j = k = 0\n",
    "\n",
    "        while i < len(left_half) and j < len(right_half):\n",
    "            if left_half[i] < right_half[j]:\n",
    "                arr[k] = left_half[i]\n",
    "                i += 1\n",
    "            else:\n",
    "                arr[k] = right_half[j]\n",
    "                j += 1\n",
    "            k += 1\n",
    "\n",
    "        while i < len(left_half):\n",
    "            arr[k] = left_half[i]\n",
    "            i += 1\n",
    "            k += 1\n",
    "\n",
    "        while j < len(right_half):\n",
    "            arr[k] = right_half[j]\n",
    "            j += 1\n",
    "            k += 1"
   ]
  },
  {
   "cell_type": "markdown",
   "metadata": {},
   "source": [
    "In this function, the array is recursively divided in half and then merged, resulting in an O(n log n) time complexity."
   ]
  },
  {
   "cell_type": "markdown",
   "metadata": {},
   "source": [
    "### 5. O(n^2) - Quadratic Time \n",
    "\n",
    "##### The running time grows quadratically with the input size. Common in algorithms with nested loops."
   ]
  },
  {
   "cell_type": "markdown",
   "metadata": {},
   "source": [
    "**Example:**\n",
    "Bubble sort algorithm."
   ]
  },
  {
   "cell_type": "code",
   "execution_count": 5,
   "metadata": {},
   "outputs": [],
   "source": [
    "def bubble_sort(arr):\n",
    "    n = len(arr)\n",
    "    for i in range(n):\n",
    "        for j in range(0, n-i-1):\n",
    "            if arr[j] > arr[j+1]:\n",
    "                arr[j], arr[j+1] = arr[j+1], arr[j]"
   ]
  },
  {
   "cell_type": "markdown",
   "metadata": {},
   "source": [
    "In this function, there are two nested loops, each iterating over the array, resulting in an O(n^2) time complexity."
   ]
  },
  {
   "cell_type": "markdown",
   "metadata": {},
   "source": [
    "### 6. O(2^n) - Exponential Time\n",
    "\n",
    "##### The running time grows exponentially with the input size. Common in algorithms that solve problems by exhaustive search."
   ]
  },
  {
   "cell_type": "markdown",
   "metadata": {},
   "source": [
    "**Example:** Recursive calculation of the nth Fibonacci number."
   ]
  },
  {
   "cell_type": "code",
   "execution_count": 6,
   "metadata": {},
   "outputs": [],
   "source": [
    "def fibonacci(n):\n",
    "    if n <= 1:\n",
    "        return n\n",
    "    return fibonacci(n-1) + fibonacci(n-2)"
   ]
  },
  {
   "cell_type": "markdown",
   "metadata": {},
   "source": [
    "In this function, each call to fibonacci results in two more calls, leading to an exponential time complexity."
   ]
  },
  {
   "cell_type": "markdown",
   "metadata": {},
   "source": [
    "### 7. O(n!) - Factorial Time\n",
    "\n",
    "##### The running time grows factorially with the input size. Common in algorithms that generate all permutations of a set."
   ]
  },
  {
   "cell_type": "markdown",
   "metadata": {},
   "source": [
    "**Example:** Generating all permutations of a list."
   ]
  },
  {
   "cell_type": "code",
   "execution_count": 7,
   "metadata": {},
   "outputs": [
    {
     "name": "stdout",
     "output_type": "stream",
     "text": [
      "[(1, 2, 3), (1, 3, 2), (2, 1, 3), (2, 3, 1), (3, 1, 2), (3, 2, 1)]\n"
     ]
    }
   ],
   "source": [
    "from itertools import permutations\n",
    "\n",
    "def all_permutations(arr):\n",
    "    return list(permutations(arr))\n",
    "\n",
    "arr = [1, 2, 3]\n",
    "print(all_permutations(arr))"
   ]
  },
  {
   "cell_type": "markdown",
   "metadata": {},
   "source": [
    "In this function, the permutations function generates all possible orderings of the array, leading to a factorial time complexity.\n",
    "\n",
    "Understanding these different time complexities helps to choose the right algorithm for a given problem and ensures that your programs can handle large inputs efficiently."
   ]
  }
 ],
 "metadata": {
  "kernelspec": {
   "display_name": "Python 3",
   "language": "python",
   "name": "python3"
  },
  "language_info": {
   "codemirror_mode": {
    "name": "ipython",
    "version": 3
   },
   "file_extension": ".py",
   "mimetype": "text/x-python",
   "name": "python",
   "nbconvert_exporter": "python",
   "pygments_lexer": "ipython3",
   "version": "3.11.4"
  }
 },
 "nbformat": 4,
 "nbformat_minor": 2
}
