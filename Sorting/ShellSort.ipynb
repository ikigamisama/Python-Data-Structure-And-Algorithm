{
 "cells": [
  {
   "cell_type": "markdown",
   "metadata": {},
   "source": [
    "# Shell Sort"
   ]
  },
  {
   "cell_type": "markdown",
   "metadata": {},
   "source": [
    "####  is an in-place comparison-based sorting algorithm that generalizes insertion sort to allow the exchange of items that are far apart. The idea is to arrange the list of elements so that, starting anywhere, considering every hth element gives a sorted list. This reduces the number of swaps needed to sort the entire list. As the algorithm proceeds, the gap h is reduced until it becomes 1, at which point it effectively becomes an insertion sort."
   ]
  },
  {
   "cell_type": "markdown",
   "metadata": {},
   "source": [
    "## Usage"
   ]
  },
  {
   "cell_type": "markdown",
   "metadata": {},
   "source": [
    "#### Shell Sort is used for medium-sized arrays where its performance improvement over simple algorithms like insertion sort becomes noticeable. It's particularly useful when auxiliary memory is limited and an in-place sorting method is required."
   ]
  },
  {
   "cell_type": "markdown",
   "metadata": {},
   "source": [
    "## Sample Implementation"
   ]
  },
  {
   "cell_type": "code",
   "execution_count": 2,
   "metadata": {},
   "outputs": [
    {
     "name": "stdout",
     "output_type": "stream",
     "text": [
      "Sorted array is: [2, 3, 12, 34, 54]\n"
     ]
    }
   ],
   "source": [
    "def shell_sort(arr):\n",
    "    n = len(arr)\n",
    "    gap = n // 2  # Initialize the gap size\n",
    "\n",
    "    # Start with a big gap, then reduce the gap\n",
    "    while gap > 0:\n",
    "        for i in range(gap, n):\n",
    "            temp = arr[i]\n",
    "            j = i\n",
    "            # Shift earlier gap-sorted elements up until the correct location for arr[i] is found\n",
    "            while j >= gap and arr[j - gap] > temp:\n",
    "                arr[j] = arr[j - gap]\n",
    "                j -= gap\n",
    "            arr[j] = temp\n",
    "        gap //= 2  # Reduce the gap for the next element\n",
    "\n",
    "# Example usage\n",
    "arr = [12, 34, 54, 2, 3]\n",
    "shell_sort(arr)\n",
    "print(\"Sorted array is:\", arr)\n"
   ]
  },
  {
   "cell_type": "markdown",
   "metadata": {},
   "source": [
    "## Examples"
   ]
  },
  {
   "cell_type": "markdown",
   "metadata": {},
   "source": [
    "### 1. **Medium-sized Arrays** -  Shell Sort is effective for medium-sized arrays due to its improved performance over insertion sort."
   ]
  },
  {
   "cell_type": "code",
   "execution_count": 8,
   "metadata": {},
   "outputs": [
    {
     "name": "stdout",
     "output_type": "stream",
     "text": [
      "[12, 22, 23, 34, 45, 67, 89]\n"
     ]
    }
   ],
   "source": [
    "medium_list = [45, 23, 67, 12, 89, 34, 22]\n",
    "shell_sort(medium_list)\n",
    "print(medium_list)"
   ]
  },
  {
   "cell_type": "markdown",
   "metadata": {},
   "source": [
    "### 2. **In-place Sorting** - Shell Sort performs sorting in-place, requiring minimal additional memory."
   ]
  },
  {
   "cell_type": "code",
   "execution_count": 7,
   "metadata": {},
   "outputs": [
    {
     "name": "stdout",
     "output_type": "stream",
     "text": [
      "[10, 13, 14, 29, 37]\n"
     ]
    }
   ],
   "source": [
    "limited_memory_list = [29, 10, 14, 37, 13]\n",
    "shell_sort(limited_memory_list)\n",
    "print(limited_memory_list)"
   ]
  },
  {
   "cell_type": "markdown",
   "metadata": {},
   "source": [
    "### 3. **Sorting Linked Lists** - Shell Sort can be adapted for linked lists, though it's less common."
   ]
  },
  {
   "cell_type": "code",
   "execution_count": 6,
   "metadata": {},
   "outputs": [
    {
     "name": "stdout",
     "output_type": "stream",
     "text": [
      "12 23 45 67 89 \n"
     ]
    }
   ],
   "source": [
    "class ListNode:\n",
    "    def __init__(self, val=0, next=None):\n",
    "        self.val = val\n",
    "        self.next = next\n",
    "\n",
    "def shell_sort_linked_list(head):\n",
    "    if not head:\n",
    "        return head\n",
    "\n",
    "    def get_length(node):\n",
    "        length = 0\n",
    "        while node:\n",
    "            length += 1\n",
    "            node = node.next\n",
    "        return length\n",
    "\n",
    "    def get_node_at_index(node, index):\n",
    "        for _ in range(index):\n",
    "            node = node.next\n",
    "        return node\n",
    "\n",
    "    length = get_length(head)\n",
    "    gap = length // 2\n",
    "\n",
    "    while gap > 0:\n",
    "        for start in range(gap):\n",
    "            node = get_node_at_index(head, start)\n",
    "            while node and node.next:\n",
    "                if node.val > node.next.val:\n",
    "                    node.val, node.next.val = node.next.val, node.val\n",
    "                node = node.next\n",
    "        gap //= 2\n",
    "\n",
    "    return head\n",
    "\n",
    "def print_list(node):\n",
    "    while node:\n",
    "        print(node.val, end=\" \")\n",
    "        node = node.next\n",
    "    print()\n",
    "\n",
    "head = ListNode(45, ListNode(23, ListNode(67, ListNode(12, ListNode(89)))))\n",
    "sorted_head = shell_sort_linked_list(head)\n",
    "print_list(sorted_head)"
   ]
  },
  {
   "cell_type": "markdown",
   "metadata": {},
   "source": [
    "### 4. **Real-time Systems** - Shell Sort's performance is advantageous in real-time systems where quick sorting is needed."
   ]
  },
  {
   "cell_type": "code",
   "execution_count": 5,
   "metadata": {},
   "outputs": [
    {
     "name": "stdout",
     "output_type": "stream",
     "text": [
      "[1, 2, 3, 4, 5, 6, 7, 8]\n"
     ]
    }
   ],
   "source": [
    "real_time_data = [8, 4, 3, 7, 6, 5, 2, 1]\n",
    "shell_sort(real_time_data)\n",
    "print(real_time_data)"
   ]
  },
  {
   "cell_type": "markdown",
   "metadata": {},
   "source": [
    "### 5. **Sorting Small to Medium Datasets in Embedded Systems** - Shell Sort is suitable for sorting small to medium-sized datasets in embedded systems."
   ]
  },
  {
   "cell_type": "code",
   "execution_count": 4,
   "metadata": {},
   "outputs": [
    {
     "name": "stdout",
     "output_type": "stream",
     "text": [
      "[9, 12, 17, 20, 35]\n"
     ]
    }
   ],
   "source": [
    "embedded_system_data = [20, 35, 17, 9, 12]\n",
    "shell_sort(embedded_system_data)\n",
    "print(embedded_system_data)"
   ]
  }
 ],
 "metadata": {
  "kernelspec": {
   "display_name": "Python 3",
   "language": "python",
   "name": "python3"
  },
  "language_info": {
   "codemirror_mode": {
    "name": "ipython",
    "version": 3
   },
   "file_extension": ".py",
   "mimetype": "text/x-python",
   "name": "python",
   "nbconvert_exporter": "python",
   "pygments_lexer": "ipython3",
   "version": "3.11.4"
  }
 },
 "nbformat": 4,
 "nbformat_minor": 2
}
