{
 "cells": [
  {
   "cell_type": "markdown",
   "metadata": {},
   "source": [
    "# Binary Search"
   ]
  },
  {
   "cell_type": "markdown",
   "metadata": {},
   "source": [
    "####  is a search algorithm that finds the position of a target value within a sorted array. Binary search compares the target value to the middle element of the array. If they are not equal, the half in which the target cannot lie is eliminated, and the search continues on the remaining half, again taking the middle element to compare to the target value, and repeating this until the target value is found or the remaining array is empty."
   ]
  },
  {
   "cell_type": "markdown",
   "metadata": {},
   "source": [
    "## Usage"
   ]
  },
  {
   "cell_type": "markdown",
   "metadata": {},
   "source": [
    "#### Binary Search is used because of its efficiency, having a time complexity of O(logn), making it significantly faster than linear search for large datasets. It is particularly useful in applications where data is static and needs to be searched frequently."
   ]
  },
  {
   "cell_type": "markdown",
   "metadata": {},
   "source": [
    "## Sample Implementation"
   ]
  },
  {
   "cell_type": "code",
   "execution_count": 1,
   "metadata": {},
   "outputs": [
    {
     "name": "stdout",
     "output_type": "stream",
     "text": [
      "Element is present at index 3\n"
     ]
    }
   ],
   "source": [
    "def binary_search(arr, x):\n",
    "    left, right = 0, len(arr) - 1\n",
    "\n",
    "    while left <= right:\n",
    "        mid = left + (right - left) // 2\n",
    "\n",
    "        # Check if x is present at mid\n",
    "        if arr[mid] == x:\n",
    "            return mid\n",
    "        # If x is greater, ignore left half\n",
    "        elif arr[mid] < x:\n",
    "            left = mid + 1\n",
    "        # If x is smaller, ignore right half\n",
    "        else:\n",
    "            right = mid - 1\n",
    "\n",
    "    # If we reach here, the element was not present\n",
    "    return -1\n",
    "\n",
    "# Example usage\n",
    "arr = [2, 3, 4, 10, 40]\n",
    "x = 10\n",
    "result = binary_search(arr, x)\n",
    "if result != -1:\n",
    "    print(f\"Element is present at index {result}\")\n",
    "else:\n",
    "    print(\"Element is not present in array\")\n"
   ]
  },
  {
   "cell_type": "markdown",
   "metadata": {},
   "source": [
    "## Examples"
   ]
  },
  {
   "cell_type": "markdown",
   "metadata": {},
   "source": [
    "### 1. **Searching in a Sorted Array** - Efficiently finds the position of a target value within a sorted array."
   ]
  },
  {
   "cell_type": "code",
   "execution_count": 2,
   "metadata": {},
   "outputs": [
    {
     "name": "stdout",
     "output_type": "stream",
     "text": [
      "Element 10 is at index 3\n"
     ]
    }
   ],
   "source": [
    "import bisect\n",
    "arr = [1, 3, 4, 10, 15]\n",
    "index = bisect.bisect_left(arr, 10)\n",
    "print(f\"Element 10 is at index {index}\") \n"
   ]
  },
  {
   "cell_type": "markdown",
   "metadata": {},
   "source": [
    "### 2. **Finding an Element in a Database Index** - Quickly locate records in a database index where the index is sorted."
   ]
  },
  {
   "cell_type": "code",
   "execution_count": null,
   "metadata": {
    "vscode": {
     "languageId": "sql"
    }
   },
   "outputs": [],
   "source": [
    "SELECT * FROM users WHERE id = 10;"
   ]
  },
  {
   "cell_type": "markdown",
   "metadata": {},
   "source": [
    "### 3. **Efficiently Searching in a Phonebook** - Quickly find a contact in a phonebook application sorted by names."
   ]
  },
  {
   "cell_type": "code",
   "execution_count": 4,
   "metadata": {
    "vscode": {
     "languageId": "sql"
    }
   },
   "outputs": [
    {
     "name": "stdout",
     "output_type": "stream",
     "text": [
      "Contact Charlie is at index 2\n"
     ]
    }
   ],
   "source": [
    "contacts = [\"Alice\", \"Bob\", \"Charlie\", \"David\"]\n",
    "name = \"Charlie\"\n",
    "index = binary_search(contacts, name)\n",
    "print(f\"Contact {name} is at index {index}\")  # Output: Contact Charlie is at index 2\n"
   ]
  },
  {
   "cell_type": "markdown",
   "metadata": {},
   "source": [
    "### 4. **Searching in a Library Catalog** - Quickly locate books in a library catalog that is sorted by title or author."
   ]
  },
  {
   "cell_type": "code",
   "execution_count": 8,
   "metadata": {},
   "outputs": [
    {
     "name": "stdout",
     "output_type": "stream",
     "text": [
      "Book Fahrenheit 451 is at index 2\n"
     ]
    }
   ],
   "source": [
    "books = [\"1984\", \"Brave New World\", \"Fahrenheit 451\", \"The Catcher in the Rye\"]\n",
    "title = \"Fahrenheit 451\"\n",
    "index = binary_search(books, title)\n",
    "print(f\"Book {title} is at index {index}\")  # Output: Book Fahrenheit 451 is at index 2\n"
   ]
  },
  {
   "cell_type": "markdown",
   "metadata": {},
   "source": [
    "### 5. **Finding an Optimal Point in Numeric Data** - Used in numerical methods to find an optimal point in a sorted array of values."
   ]
  },
  {
   "cell_type": "code",
   "execution_count": 9,
   "metadata": {},
   "outputs": [
    {
     "name": "stdout",
     "output_type": "stream",
     "text": [
      "Peak element is at index 3\n"
     ]
    }
   ],
   "source": [
    "def find_peak(arr):\n",
    "    left, right = 0, len(arr) - 1\n",
    "    while left < right:\n",
    "        mid = (left + right) // 2\n",
    "        if arr[mid] < arr[mid + 1]:\n",
    "            left = mid + 1\n",
    "        else:\n",
    "            right = mid\n",
    "    return left\n",
    "\n",
    "arr = [1, 3, 8, 12, 4, 2]\n",
    "peak_index = find_peak(arr)\n",
    "print(f\"Peak element is at index {peak_index}\")  # Output: Peak element is at index 3\n"
   ]
  },
  {
   "cell_type": "markdown",
   "metadata": {},
   "source": []
  }
 ],
 "metadata": {
  "kernelspec": {
   "display_name": "Python 3",
   "language": "python",
   "name": "python3"
  },
  "language_info": {
   "codemirror_mode": {
    "name": "ipython",
    "version": 3
   },
   "file_extension": ".py",
   "mimetype": "text/x-python",
   "name": "python",
   "nbconvert_exporter": "python",
   "pygments_lexer": "ipython3",
   "version": "3.11.4"
  }
 },
 "nbformat": 4,
 "nbformat_minor": 2
}
