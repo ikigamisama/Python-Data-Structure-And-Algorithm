{
 "cells": [
  {
   "cell_type": "markdown",
   "metadata": {},
   "source": [
    "# Insertion Sort"
   ]
  },
  {
   "cell_type": "markdown",
   "metadata": {},
   "source": [
    "####  is a simple sorting algorithm that builds the final sorted array one item at a time. It is much less efficient on large lists than more advanced algorithms such as Quick Sort, Heap Sort, or Merge Sort. However, it has several advantages: it is simple to implement, efficient for small data sets, adaptive (i.e., efficient for data sets that are already substantially sorted), stable, and in-place."
   ]
  },
  {
   "cell_type": "markdown",
   "metadata": {},
   "source": [
    "## Usage"
   ]
  },
  {
   "cell_type": "markdown",
   "metadata": {},
   "source": [
    "#### Insertion Sort is primarily used for small datasets or when the array is nearly sorted, as it has a time complexity of O(n^2) in the worst case, but it performs better on small or nearly sorted data. It is also used in hybrid sorting algorithms, such as Timsort, where it helps to sort small subarrays."
   ]
  },
  {
   "cell_type": "markdown",
   "metadata": {},
   "source": [
    "## Sample Implementation"
   ]
  },
  {
   "cell_type": "code",
   "execution_count": 1,
   "metadata": {},
   "outputs": [
    {
     "name": "stdout",
     "output_type": "stream",
     "text": [
      "Sorted array is: [5, 6, 11, 12, 13]\n"
     ]
    }
   ],
   "source": [
    "def insertion_sort(arr):\n",
    "    for i in range(1, len(arr)):\n",
    "        key = arr[i]\n",
    "        j = i - 1\n",
    "        while j >= 0 and key < arr[j]:\n",
    "            arr[j + 1] = arr[j]\n",
    "            j -= 1\n",
    "        arr[j + 1] = key\n",
    "\n",
    "arr = [12, 11, 13, 5, 6]\n",
    "insertion_sort(arr)\n",
    "print(\"Sorted array is:\", arr)"
   ]
  },
  {
   "cell_type": "markdown",
   "metadata": {},
   "source": [
    "## Examples"
   ]
  },
  {
   "cell_type": "markdown",
   "metadata": {},
   "source": [
    "### 1. **Small Data Sets** - Insertion Sort is effective for sorting small datasets due to its simplicity and efficiency."
   ]
  },
  {
   "cell_type": "code",
   "execution_count": 7,
   "metadata": {},
   "outputs": [
    {
     "name": "stdout",
     "output_type": "stream",
     "text": [
      "[1, 2, 3, 4, 5, 6, 10, 12]\n"
     ]
    }
   ],
   "source": [
    "small_list = [4, 3, 2, 10, 12, 1, 5, 6]\n",
    "insertion_sort(small_list)\n",
    "print(small_list)"
   ]
  },
  {
   "cell_type": "markdown",
   "metadata": {},
   "source": [
    "### 2. **Nearly Sorted Arrays** - Insertion Sort performs well on nearly sorted arrays, making only a few operations to sort the entire array."
   ]
  },
  {
   "cell_type": "code",
   "execution_count": 6,
   "metadata": {},
   "outputs": [
    {
     "name": "stdout",
     "output_type": "stream",
     "text": [
      "[1, 2, 3, 4, 5, 6, 7, 8]\n"
     ]
    }
   ],
   "source": [
    "nearly_sorted_list = [1, 2, 3, 4, 5, 7, 6, 8]\n",
    "insertion_sort(nearly_sorted_list)\n",
    "print(nearly_sorted_list)"
   ]
  },
  {
   "cell_type": "markdown",
   "metadata": {},
   "source": [
    "### 3. **Online Sorting** - Insertion Sort is suitable for online sorting, where data is received and needs to be sorted in real-time.."
   ]
  },
  {
   "cell_type": "code",
   "execution_count": 5,
   "metadata": {},
   "outputs": [
    {
     "name": "stdout",
     "output_type": "stream",
     "text": [
      "[1, 4, 7, 10]\n"
     ]
    }
   ],
   "source": [
    "online_data = [10, 1, 7, 4]\n",
    "sorted_data = []\n",
    "for item in online_data:\n",
    "    sorted_data.append(item)\n",
    "    insertion_sort(sorted_data)\n",
    "print(sorted_data)"
   ]
  },
  {
   "cell_type": "markdown",
   "metadata": {},
   "source": [
    "### 4. **Hybrid Sorting Algorithms** - Insertion Sort is used in hybrid sorting algorithms like Timsort, which combines the advantages of merge sort and insertion sort."
   ]
  },
  {
   "cell_type": "code",
   "execution_count": 4,
   "metadata": {},
   "outputs": [
    {
     "name": "stdout",
     "output_type": "stream",
     "text": [
      "[12, 11, 13, 5, 6, 7, 8]\n"
     ]
    }
   ],
   "source": [
    "def hybrid_sort(arr):\n",
    "    min_run = 32\n",
    "    for start in range(0, len(arr), min_run):\n",
    "        end = min(start + min_run - 1, len(arr) - 1)\n",
    "        insertion_sort(arr[start:end + 1])\n",
    "    return arr\n",
    "\n",
    "hybrid_sorted_list = hybrid_sort([12, 11, 13, 5, 6, 7, 8])\n",
    "print(hybrid_sorted_list)"
   ]
  },
  {
   "cell_type": "markdown",
   "metadata": {},
   "source": [
    "### 5. **Educational Tools** - Insertion Sort is often used in educational tools to teach basic sorting algorithms."
   ]
  },
  {
   "cell_type": "code",
   "execution_count": 3,
   "metadata": {},
   "outputs": [
    {
     "name": "stdout",
     "output_type": "stream",
     "text": [
      "[1, 2, 3]\n"
     ]
    }
   ],
   "source": [
    "example_list = [2, 1, 3]\n",
    "insertion_sort(example_list)\n",
    "print(example_list)  \n"
   ]
  },
  {
   "cell_type": "markdown",
   "metadata": {},
   "source": []
  }
 ],
 "metadata": {
  "kernelspec": {
   "display_name": "Python 3",
   "language": "python",
   "name": "python3"
  },
  "language_info": {
   "codemirror_mode": {
    "name": "ipython",
    "version": 3
   },
   "file_extension": ".py",
   "mimetype": "text/x-python",
   "name": "python",
   "nbconvert_exporter": "python",
   "pygments_lexer": "ipython3",
   "version": "3.11.4"
  }
 },
 "nbformat": 4,
 "nbformat_minor": 2
}
