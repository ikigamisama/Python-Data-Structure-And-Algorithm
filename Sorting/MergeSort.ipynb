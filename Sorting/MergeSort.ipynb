{
 "cells": [
  {
   "cell_type": "markdown",
   "metadata": {},
   "source": [
    "# Merge Sort"
   ]
  },
  {
   "cell_type": "markdown",
   "metadata": {},
   "source": [
    "####  is a divide-and-conquer algorithm that divides the input array into two halves, calls itself for the two halves, and then merges the two sorted halves. The merge function is a key process that assumes that the two halves are sorted and merges them to produce the final sorted array."
   ]
  },
  {
   "cell_type": "markdown",
   "metadata": {},
   "source": [
    "## Usage"
   ]
  },
  {
   "cell_type": "markdown",
   "metadata": {},
   "source": [
    "#### Merge Sort is known for its efficiency, with a time complexity of O(nlogn) in all cases (worst, average, and best). It is stable and performs well with large datasets, but it requires additional space proportional to the size of the input array, making it less space-efficient than in-place sorting algorithms."
   ]
  },
  {
   "cell_type": "markdown",
   "metadata": {},
   "source": [
    "## Sample Implementation"
   ]
  },
  {
   "cell_type": "code",
   "execution_count": 16,
   "metadata": {},
   "outputs": [
    {
     "name": "stdout",
     "output_type": "stream",
     "text": [
      "Sorted array is: [5, 6, 7, 11, 12, 13]\n"
     ]
    }
   ],
   "source": [
    "def merge_sort(arr):\n",
    "    if len(arr) > 1:\n",
    "        mid = len(arr) // 2  # Finding the mid of the array\n",
    "        L = arr[:mid]  # Dividing the elements into 2 halves\n",
    "        R = arr[mid:]\n",
    "\n",
    "        merge_sort(L)  # Sorting the first half\n",
    "        merge_sort(R)  # Sorting the second half\n",
    "\n",
    "        i = j = k = 0\n",
    "\n",
    "        # Copy data to temp arrays L[] and R[]\n",
    "        while i < len(L) and j < len(R):\n",
    "            if L[i] < R[j]:\n",
    "                arr[k] = L[i]\n",
    "                i += 1\n",
    "            else:\n",
    "                arr[k] = R[j]\n",
    "                j += 1\n",
    "            k += 1\n",
    "\n",
    "        # Checking if any element was left\n",
    "        while i < len(L):\n",
    "            arr[k] = L[i]\n",
    "            i += 1\n",
    "            k += 1\n",
    "\n",
    "        while j < len(R):\n",
    "            arr[k] = R[j]\n",
    "            j += 1\n",
    "            k += 1\n",
    "    return arr\n",
    "\n",
    "# Example usage\n",
    "arr = [12, 11, 13, 5, 6, 7]\n",
    "merge_sort(arr)\n",
    "print(\"Sorted array is:\", arr)\n"
   ]
  },
  {
   "cell_type": "markdown",
   "metadata": {},
   "source": [
    "## Examples"
   ]
  },
  {
   "cell_type": "markdown",
   "metadata": {},
   "source": [
    "### 1. **Large Data Sets** - Merge Sort is efficient and stable, making it suitable for large datasets."
   ]
  },
  {
   "cell_type": "code",
   "execution_count": 15,
   "metadata": {},
   "outputs": [
    {
     "name": "stdout",
     "output_type": "stream",
     "text": [
      "[390, 236, 289, 530, 599, 210, 765, 730, 678, 371]\n"
     ]
    }
   ],
   "source": [
    "import random\n",
    "\n",
    "def merge_large_sort(arr):\n",
    "    if len(arr) > 1:\n",
    "        mid = len(arr) // 2  # Finding the mid of the array\n",
    "        L = arr[:mid]  # Dividing the elements into 2 halves\n",
    "        R = arr[mid:]\n",
    "        return merge(L, R)\n",
    "\n",
    "def merge(left, right):\n",
    "    result = []\n",
    "    i = j = 0\n",
    "\n",
    "    # Merging the two halves\n",
    "    while i < len(left) and j < len(right):\n",
    "        if left[i] < right[j]:\n",
    "            result.append(left[i])\n",
    "            i += 1\n",
    "        else:\n",
    "            result.append(right[j])\n",
    "            j += 1\n",
    "\n",
    "    # Adding the remaining elements\n",
    "    result.extend(left[i:])\n",
    "    result.extend(right[j:])\n",
    "\n",
    "    return result\n",
    "\n",
    "large_list = [random.randint(0, 1000) for _ in range(1000)]\n",
    "sorted_large_list = merge_large_sort(large_list)\n",
    "print(sorted_large_list[:10])"
   ]
  },
  {
   "cell_type": "markdown",
   "metadata": {},
   "source": [
    "### 2. **External Sorting** - Merge Sort is used in external sorting, where data is stored on disk and cannot fit into memory."
   ]
  },
  {
   "cell_type": "code",
   "execution_count": null,
   "metadata": {},
   "outputs": [],
   "source": [
    "def external_sort(file_path):\n",
    "    chunks = []\n",
    "    with open(file_path, 'r') as file:\n",
    "        while True:\n",
    "            lines = file.readlines(1000)\n",
    "            if not lines:\n",
    "                break\n",
    "            lines.sort()\n",
    "            chunks.append(lines)\n",
    "\n",
    "    with open('sorted_file.txt', 'w') as sorted_file:\n",
    "        for chunk in chunks:\n",
    "            sorted_file.writelines(chunk)\n"
   ]
  },
  {
   "cell_type": "markdown",
   "metadata": {},
   "source": [
    "### 3. **Multi-threaded Sorting** - Merge Sort can be parallelized to take advantage of multi-threading and multi-core processors."
   ]
  },
  {
   "cell_type": "code",
   "execution_count": null,
   "metadata": {},
   "outputs": [
    {
     "name": "stdout",
     "output_type": "stream",
     "text": [
      "[5, 6, 7, 11, 12, 13]\n"
     ]
    }
   ],
   "source": [
    "from concurrent.futures import ThreadPoolExecutor\n",
    "\n",
    "def parallel_merge_sort(arr):\n",
    "    if len(arr) <= 1:\n",
    "        return arr\n",
    "\n",
    "    mid = len(arr) // 2\n",
    "    with ThreadPoolExecutor() as executor:\n",
    "        left = executor.submit(parallel_merge_sort, arr[:mid])\n",
    "        right = executor.submit(parallel_merge_sort, arr[mid:])\n",
    "        return merge(left.result(), right.result())\n",
    "\n",
    "def merge(left, right):\n",
    "    result = []\n",
    "    i = j = 0\n",
    "    while i < len(left) and j < len(right):\n",
    "        if left[i] < right[j]:\n",
    "            result.append(left[i])\n",
    "            i += 1\n",
    "        else:\n",
    "            result.append(right[j])\n",
    "            j += 1\n",
    "    result.extend(left[i:])\n",
    "    result.extend(right[j:])\n",
    "    return result\n",
    "\n",
    "array = [12, 11, 13, 5, 6, 7]\n",
    "sorted_array = parallel_merge_sort(array)\n",
    "print(sorted_array)\n"
   ]
  },
  {
   "cell_type": "markdown",
   "metadata": {},
   "source": [
    "### 4. **Handling Linked Lists** - Merge Sort is effective for sorting linked lists since it does not require random access to elements."
   ]
  },
  {
   "cell_type": "code",
   "execution_count": null,
   "metadata": {},
   "outputs": [
    {
     "name": "stdout",
     "output_type": "stream",
     "text": [
      "1 2 3 4 \n"
     ]
    }
   ],
   "source": [
    "class ListNode:\n",
    "    def __init__(self, val=0, next=None):\n",
    "        self.val = val\n",
    "        self.next = next\n",
    "\n",
    "def merge_sort_list(head):\n",
    "    if not head or not head.next:\n",
    "        return head\n",
    "\n",
    "    def split(head):\n",
    "        slow, fast = head, head.next\n",
    "        while fast and fast.next:\n",
    "            slow = slow.next\n",
    "            fast = fast.next.next\n",
    "        mid = slow.next\n",
    "        slow.next = None\n",
    "        return head, mid\n",
    "\n",
    "    def merge(l1, l2):\n",
    "        dummy = ListNode()\n",
    "        tail = dummy\n",
    "        while l1 and l2:\n",
    "            if l1.val < l2.val:\n",
    "                tail.next = l1\n",
    "                l1 = l1.next\n",
    "            else:\n",
    "                tail.next = l2\n",
    "                l2 = l2.next\n",
    "            tail = tail.next\n",
    "        tail.next = l1 if l1 else l2\n",
    "        return dummy.next\n",
    "\n",
    "    left, right = split(head)\n",
    "    return merge(merge_sort_list(left), merge_sort_list(right))\n",
    "\n",
    "# Example usage\n",
    "def print_list(node):\n",
    "    while node:\n",
    "        print(node.val, end=\" \")\n",
    "        node = node.next\n",
    "    print()\n",
    "\n",
    "head = ListNode(4, ListNode(2, ListNode(1, ListNode(3))))\n",
    "sorted_head = merge_sort_list(head)\n",
    "print_list(sorted_head) \n"
   ]
  },
  {
   "cell_type": "markdown",
   "metadata": {},
   "source": [
    "### 5. **Sorting Data Streams** - Merge Sort can be adapted to sort data streams that are too large to fit into memory."
   ]
  },
  {
   "cell_type": "code",
   "execution_count": null,
   "metadata": {},
   "outputs": [
    {
     "name": "stdout",
     "output_type": "stream",
     "text": [
      "[1, 2, 3, 4, 5, 6, 7, 8, 9, 10]\n"
     ]
    }
   ],
   "source": [
    "import heapq\n",
    "\n",
    "def sort_data_stream(stream):\n",
    "    sorted_chunks = []\n",
    "    while True:\n",
    "        chunk = list(itertools.islice(stream, 1000))\n",
    "        if not chunk:\n",
    "            break\n",
    "        sorted_chunks.append(sorted(chunk))\n",
    "\n",
    "    return list(heapq.merge(*sorted_chunks))\n",
    "\n",
    "import itertools\n",
    "\n",
    "data_stream = (x for x in range(10000, 0, -1))\n",
    "sorted_stream = sort_data_stream(data_stream)\n",
    "print(sorted_stream[:10]) \n"
   ]
  },
  {
   "cell_type": "code",
   "execution_count": null,
   "metadata": {},
   "outputs": [],
   "source": []
  }
 ],
 "metadata": {
  "kernelspec": {
   "display_name": "Python 3",
   "language": "python",
   "name": "python3"
  },
  "language_info": {
   "codemirror_mode": {
    "name": "ipython",
    "version": 3
   },
   "file_extension": ".py",
   "mimetype": "text/x-python",
   "name": "python",
   "nbconvert_exporter": "python",
   "pygments_lexer": "ipython3",
   "version": "3.11.4"
  }
 },
 "nbformat": 4,
 "nbformat_minor": 2
}
