{
 "cells": [
  {
   "cell_type": "markdown",
   "metadata": {},
   "source": [
    "# Linked List"
   ]
  },
  {
   "cell_type": "markdown",
   "metadata": {},
   "source": [
    "#### is a linear data structure in which elements, called nodes, are not stored in contiguous memory locations. Instead, each node contains two parts:\n",
    "\n",
    "#### 1. Data: The value or information stored in the node.\n",
    "#### 2. Pointer (or Reference): A reference to the next node in the sequence."
   ]
  },
  {
   "cell_type": "markdown",
   "metadata": {},
   "source": [
    "#### Linked lists are a fundamental data structure with dynamic size and efficient insertions/deletions. They are widely used in various applications, including implementing other data structures like stacks, queues, and graphs, as well as in scenarios where dynamic memory allocation is required. Understanding linked lists is crucial for mastering more advanced data structures and algorithms."
   ]
  },
  {
   "cell_type": "markdown",
   "metadata": {},
   "source": [
    "## Types of Linked Lists"
   ]
  },
  {
   "cell_type": "markdown",
   "metadata": {},
   "source": [
    "#### 1. Singly Linked List: Each node points to the next node.\n",
    "#### 2. Doubly Linked List: Each node points to both the next and the previous node.\n",
    "#### 3. Circular Linked List: The last node points back to the first node, forming a circle."
   ]
  },
  {
   "cell_type": "markdown",
   "metadata": {},
   "source": [
    "## Singly Linked List"
   ]
  },
  {
   "cell_type": "code",
   "execution_count": 1,
   "metadata": {},
   "outputs": [
    {
     "name": "stdout",
     "output_type": "stream",
     "text": [
      "1 -> 2 -> 3 -> None\n"
     ]
    }
   ],
   "source": [
    "class Node:\n",
    "    def __init__(self, data):\n",
    "        self.data = data\n",
    "        self.next = None\n",
    "\n",
    "class LinkedList:\n",
    "    def __init__(self):\n",
    "        self.head = None\n",
    "\n",
    "    def append(self, data):\n",
    "        new_node = Node(data)\n",
    "        if not self.head:\n",
    "            self.head = new_node\n",
    "            return\n",
    "        last_node = self.head\n",
    "        while last_node.next:\n",
    "            last_node = last_node.next\n",
    "        last_node.next = new_node\n",
    "\n",
    "    def display(self):\n",
    "        current_node = self.head\n",
    "        while current_node:\n",
    "            print(current_node.data, end=\" -> \")\n",
    "            current_node = current_node.next\n",
    "        print(\"None\")\n",
    "\n",
    "# Example Usage\n",
    "ll = LinkedList()\n",
    "ll.append(1)\n",
    "ll.append(2)\n",
    "ll.append(3)\n",
    "ll.display() "
   ]
  },
  {
   "cell_type": "markdown",
   "metadata": {},
   "source": [
    "### Usage"
   ]
  },
  {
   "cell_type": "markdown",
   "metadata": {},
   "source": [
    "#### 1. Dynamic Size: Linked lists can easily grow or shrink in size by adding or removing nodes, which makes them more flexible compared to arrays.\n",
    "#### 2. Efficient Insertions/Deletions: Adding or removing nodes can be done in O(1) time if the position is known, making linked lists efficient for operations that require frequent insertions or deletions.\n",
    "#### 3. Memory Allocation: Unlike arrays, linked lists do not require contiguous memory, which can be advantageous when dealing with large datasets."
   ]
  },
  {
   "cell_type": "markdown",
   "metadata": {},
   "source": []
  },
  {
   "cell_type": "markdown",
   "metadata": {},
   "source": [
    "## Common Operations"
   ]
  },
  {
   "cell_type": "markdown",
   "metadata": {},
   "source": [
    "#### 1. Insertion: Adding a new node to the list.\n",
    "#### 2. Deletion: Removing a node from the list.\n",
    "#### 3. Traversal: Accessing each node in the list to perform operations like searching or modifying data.\n",
    "#### 4. Searching: Finding a node with a specific value."
   ]
  },
  {
   "cell_type": "markdown",
   "metadata": {},
   "source": [
    "## Examples"
   ]
  },
  {
   "cell_type": "markdown",
   "metadata": {},
   "source": [
    "### 1. Implementing a Stack"
   ]
  },
  {
   "cell_type": "markdown",
   "metadata": {},
   "source": [
    "#### A stack is a data structure that follows the Last-In-First-Out (LIFO) principle. Linked lists can be used to implement a stack efficiently."
   ]
  },
  {
   "cell_type": "code",
   "execution_count": 3,
   "metadata": {},
   "outputs": [
    {
     "name": "stdout",
     "output_type": "stream",
     "text": [
      "3\n",
      "2\n",
      "1\n"
     ]
    }
   ],
   "source": [
    "class Stack:\n",
    "    def __init__(self):\n",
    "        self.head = None\n",
    "\n",
    "    def push(self, data):\n",
    "        new_node = Node(data)\n",
    "        new_node.next = self.head\n",
    "        self.head = new_node\n",
    "\n",
    "    def pop(self):\n",
    "        if self.head is None:\n",
    "            return None\n",
    "        popped_node = self.head\n",
    "        self.head = self.head.next\n",
    "        return popped_node.data\n",
    "\n",
    "# Example Usage\n",
    "stack = Stack()\n",
    "stack.push(1)\n",
    "stack.push(2)\n",
    "stack.push(3)\n",
    "print(stack.pop())  # Output: 3\n",
    "print(stack.pop())  # Output: 2\n",
    "print(stack.pop())  # Output: 1\n"
   ]
  },
  {
   "cell_type": "markdown",
   "metadata": {},
   "source": [
    "### 2. Implementing a Queue"
   ]
  },
  {
   "cell_type": "markdown",
   "metadata": {},
   "source": [
    "#### A queue is a data structure that follows the First-In-First-Out (FIFO) principle. Linked lists can be used to implement a queue efficiently."
   ]
  },
  {
   "cell_type": "code",
   "execution_count": 4,
   "metadata": {},
   "outputs": [
    {
     "name": "stdout",
     "output_type": "stream",
     "text": [
      "1\n",
      "2\n",
      "3\n"
     ]
    }
   ],
   "source": [
    "class Queue:\n",
    "    def __init__(self):\n",
    "        self.head = None\n",
    "        self.tail = None\n",
    "\n",
    "    def enqueue(self, data):\n",
    "        new_node = Node(data)\n",
    "        if self.tail:\n",
    "            self.tail.next = new_node\n",
    "        self.tail = new_node\n",
    "        if self.head is None:\n",
    "            self.head = new_node\n",
    "\n",
    "    def dequeue(self):\n",
    "        if self.head is None:\n",
    "            return None\n",
    "        dequeued_node = self.head\n",
    "        self.head = self.head.next\n",
    "        if self.head is None:\n",
    "            self.tail = None\n",
    "        return dequeued_node.data\n",
    "\n",
    "# Example Usage\n",
    "queue = Queue()\n",
    "queue.enqueue(1)\n",
    "queue.enqueue(2)\n",
    "queue.enqueue(3)\n",
    "print(queue.dequeue())  # Output: 1\n",
    "print(queue.dequeue())  # Output: 2\n",
    "print(queue.dequeue())  # Output: 3\n"
   ]
  },
  {
   "cell_type": "markdown",
   "metadata": {},
   "source": [
    "### 3. Representing Polynomial Equations"
   ]
  },
  {
   "cell_type": "markdown",
   "metadata": {},
   "source": [
    "#### Linked lists can be used to represent polynomial equations, where each node contains a coefficient and an exponent."
   ]
  },
  {
   "cell_type": "code",
   "execution_count": 5,
   "metadata": {},
   "outputs": [
    {
     "name": "stdout",
     "output_type": "stream",
     "text": [
      "2x^0 + 5x^1 + 3x^2 + 0\n"
     ]
    }
   ],
   "source": [
    "class Polynomial:\n",
    "    def __init__(self):\n",
    "        self.head = None\n",
    "\n",
    "    def add_term(self, coefficient, exponent):\n",
    "        new_node = Node((coefficient, exponent))\n",
    "        new_node.next = self.head\n",
    "        self.head = new_node\n",
    "\n",
    "    def display(self):\n",
    "        current_node = self.head\n",
    "        while current_node:\n",
    "            coefficient, exponent = current_node.data\n",
    "            print(f\"{coefficient}x^{exponent}\", end=\" + \")\n",
    "            current_node = current_node.next\n",
    "        print(\"0\")\n",
    "\n",
    "# Example Usage\n",
    "poly = Polynomial()\n",
    "poly.add_term(3, 2)\n",
    "poly.add_term(5, 1)\n",
    "poly.add_term(2, 0)\n",
    "poly.display()  # Output: 2x^0 + 5x^1 + 3x^2 + 0\n"
   ]
  },
  {
   "cell_type": "markdown",
   "metadata": {},
   "source": [
    "### 4. Creating a Simple Text Editor"
   ]
  },
  {
   "cell_type": "markdown",
   "metadata": {},
   "source": [
    "#### A linked list can be used to create a simple text editor where each node represents a line of text."
   ]
  },
  {
   "cell_type": "code",
   "execution_count": 6,
   "metadata": {},
   "outputs": [
    {
     "name": "stdout",
     "output_type": "stream",
     "text": [
      "This is line 1\n",
      "This is line 2\n",
      "This is line 3\n"
     ]
    }
   ],
   "source": [
    "class TextEditor:\n",
    "    def __init__(self):\n",
    "        self.head = None\n",
    "\n",
    "    def add_line(self, line):\n",
    "        new_node = Node(line)\n",
    "        new_node.next = self.head\n",
    "        self.head = new_node\n",
    "\n",
    "    def display(self):\n",
    "        current_node = self.head\n",
    "        while current_node:\n",
    "            print(current_node.data)\n",
    "            current_node = current_node.next\n",
    "\n",
    "# Example Usage\n",
    "editor = TextEditor()\n",
    "editor.add_line(\"This is line 3\")\n",
    "editor.add_line(\"This is line 2\")\n",
    "editor.add_line(\"This is line 1\")\n",
    "editor.display()\n",
    "# Output:\n",
    "# This is line 1\n",
    "# This is line 2\n",
    "# This is line 3\n"
   ]
  },
  {
   "cell_type": "markdown",
   "metadata": {},
   "source": [
    "### 5. Representing a Sparse Matrix"
   ]
  },
  {
   "cell_type": "markdown",
   "metadata": {},
   "source": [
    "#### A sparse matrix is a matrix in which most elements are zero. Linked lists can efficiently represent sparse matrices by storing only non-zero elements."
   ]
  },
  {
   "cell_type": "code",
   "execution_count": null,
   "metadata": {},
   "outputs": [
    {
     "name": "stdout",
     "output_type": "stream",
     "text": [
      "3\n",
      "2\n",
      "1\n"
     ]
    }
   ],
   "source": [
    "class SparseMatrix:\n",
    "    def __init__(self):\n",
    "        self.head = None\n",
    "\n",
    "    def add_element(self, row, col, value):\n",
    "        new_node = Node((row, col, value))\n",
    "        new_node.next = self.head\n",
    "        self.head = new_node\n",
    "\n",
    "    def display(self):\n",
    "        current_node = self.head\n",
    "        while current_node:\n",
    "            row, col, value = current_node.data\n",
    "            print(f\"Element at ({row}, {col}) = {value}\")\n",
    "            current_node = current_node.next\n",
    "\n",
    "# Example Usage\n",
    "sparse_matrix = SparseMatrix()\n",
    "sparse_matrix.add_element(0, 1, 3)\n",
    "sparse_matrix.add_element(1, 2, 4)\n",
    "sparse_matrix.add_element(2, 0, 5)\n",
    "sparse_matrix.display()\n",
    "# Output:\n",
    "# Element at (2, 0) = 5\n",
    "# Element at (1, 2) = 4\n",
    "# Element at (0, 1) = 3\n"
   ]
  },
  {
   "cell_type": "markdown",
   "metadata": {},
   "source": []
  }
 ],
 "metadata": {
  "kernelspec": {
   "display_name": "Python 3",
   "language": "python",
   "name": "python3"
  },
  "language_info": {
   "codemirror_mode": {
    "name": "ipython",
    "version": 3
   },
   "file_extension": ".py",
   "mimetype": "text/x-python",
   "name": "python",
   "nbconvert_exporter": "python",
   "pygments_lexer": "ipython3",
   "version": "3.11.4"
  }
 },
 "nbformat": 4,
 "nbformat_minor": 2
}
