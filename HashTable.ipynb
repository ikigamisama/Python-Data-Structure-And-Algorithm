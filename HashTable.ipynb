{
 "cells": [
  {
   "cell_type": "markdown",
   "metadata": {},
   "source": [
    "# Hash Table"
   ]
  },
  {
   "cell_type": "markdown",
   "metadata": {},
   "source": [
    "####  is a data structure that implements an associative array, a structure that can map keys to values. It uses a hash function to compute an index (or hash code) into an array of buckets or slots, from which the desired value can be found."
   ]
  },
  {
   "cell_type": "markdown",
   "metadata": {},
   "source": [
    "## Key Concepts"
   ]
  },
  {
   "cell_type": "markdown",
   "metadata": {},
   "source": [
    "#### 1. Hash Function: Converts a key into an index in the hash table.\n",
    "#### 2. Collision: Occurs when two keys hash to the same index.\n",
    "#### 3. Collision Resolution: Techniques to handle collisions, such as chaining (using linked lists) and open addressing (probing)."
   ]
  },
  {
   "cell_type": "markdown",
   "metadata": {},
   "source": [
    "## Sample Implementation"
   ]
  },
  {
   "cell_type": "markdown",
   "metadata": {},
   "source": [
    "#### Here's a simple implementation of a hash table using chaining for collision resolution."
   ]
  },
  {
   "cell_type": "code",
   "execution_count": 1,
   "metadata": {},
   "outputs": [
    {
     "name": "stdout",
     "output_type": "stream",
     "text": [
      "Index 0: [['apple', 1]]\n",
      "Index 1: []\n",
      "Index 2: [['banana', 2]]\n",
      "Index 3: []\n",
      "Index 4: []\n",
      "Index 5: []\n",
      "Index 6: []\n",
      "Index 7: []\n",
      "Index 8: []\n",
      "Index 9: [['cherry', 3]]\n",
      "2\n",
      "Index 0: [['apple', 1]]\n",
      "Index 1: []\n",
      "Index 2: []\n",
      "Index 3: []\n",
      "Index 4: []\n",
      "Index 5: []\n",
      "Index 6: []\n",
      "Index 7: []\n",
      "Index 8: []\n",
      "Index 9: [['cherry', 3]]\n"
     ]
    }
   ],
   "source": [
    "class HashTable:\n",
    "    def __init__(self, size):\n",
    "        self.size = size\n",
    "        self.table = [[] for _ in range(size)]\n",
    "\n",
    "    def hash_function(self, key):\n",
    "        return hash(key) % self.size\n",
    "\n",
    "    def insert(self, key, value):\n",
    "        index = self.hash_function(key)\n",
    "        for kvp in self.table[index]:\n",
    "            if kvp[0] == key:\n",
    "                kvp[1] = value\n",
    "                return\n",
    "        self.table[index].append([key, value])\n",
    "\n",
    "    def get(self, key):\n",
    "        index = self.hash_function(key)\n",
    "        for kvp in self.table[index]:\n",
    "            if kvp[0] == key:\n",
    "                return kvp[1]\n",
    "        return None\n",
    "\n",
    "    def delete(self, key):\n",
    "        index = self.hash_function(key)\n",
    "        for i, kvp in enumerate(self.table[index]):\n",
    "            if kvp[0] == key:\n",
    "                del self.table[index][i]\n",
    "                return\n",
    "\n",
    "    def display(self):\n",
    "        for i, bucket in enumerate(self.table):\n",
    "            print(f\"Index {i}: {bucket}\")\n",
    "\n",
    "# Example Usage\n",
    "ht = HashTable(10)\n",
    "ht.insert(\"apple\", 1)\n",
    "ht.insert(\"banana\", 2)\n",
    "ht.insert(\"cherry\", 3)\n",
    "ht.display()\n",
    "print(ht.get(\"banana\"))  # Output: 2\n",
    "ht.delete(\"banana\")\n",
    "ht.display()\n"
   ]
  },
  {
   "cell_type": "markdown",
   "metadata": {},
   "source": [
    "## Usage"
   ]
  },
  {
   "cell_type": "markdown",
   "metadata": {},
   "source": [
    "#### 1. Efficient Lookup: Hash tables provide average O(1) time complexity for insertions, deletions, and lookups.\n",
    "#### 2. Associative Arrays: Often used to implement dictionaries in programming languages, where key-value pairs are stored.\n",
    "#### 3. Caching: Hash tables are used in caching mechanisms to store and quickly retrieve data.\n",
    "#### 4. Databases: Used in indexing to quickly locate data records.\n",
    "#### 5. Sets: Hash tables can be used to implement set data structures, where the presence of an element is quickly checked."
   ]
  },
  {
   "cell_type": "markdown",
   "metadata": {},
   "source": [
    "## Examples"
   ]
  },
  {
   "cell_type": "markdown",
   "metadata": {},
   "source": [
    "### 1. Implementing a Dictionary"
   ]
  },
  {
   "cell_type": "code",
   "execution_count": 2,
   "metadata": {},
   "outputs": [
    {
     "name": "stdout",
     "output_type": "stream",
     "text": [
      "Alice\n",
      "30\n",
      "New York\n",
      "Index 0: []\n",
      "Index 1: []\n",
      "Index 2: []\n",
      "Index 3: []\n",
      "Index 4: []\n",
      "Index 5: []\n",
      "Index 6: []\n",
      "Index 7: []\n",
      "Index 8: [['name', 'Alice'], ['city', 'New York']]\n",
      "Index 9: [['age', 30]]\n"
     ]
    }
   ],
   "source": [
    "ht = HashTable(10)\n",
    "ht.insert(\"name\", \"Alice\")\n",
    "ht.insert(\"age\", 30)\n",
    "ht.insert(\"city\", \"New York\")\n",
    "print(ht.get(\"name\"))  # Output: Alice\n",
    "print(ht.get(\"age\"))   # Output: 30\n",
    "print(ht.get(\"city\"))  # Output: New York\n",
    "ht.display()"
   ]
  },
  {
   "cell_type": "markdown",
   "metadata": {},
   "source": [
    "### 2. Implementing a Simple Cache"
   ]
  },
  {
   "cell_type": "code",
   "execution_count": 6,
   "metadata": {},
   "outputs": [
    {
     "name": "stdout",
     "output_type": "stream",
     "text": [
      "content of page 1\n",
      "content of page 2\n"
     ]
    }
   ],
   "source": [
    "class SimpleCache:\n",
    "    def __init__(self, size):\n",
    "        self.size = size\n",
    "        self.cache = HashTable(size)\n",
    "\n",
    "    def put(self, key, value):\n",
    "        self.cache.insert(key, value)\n",
    "\n",
    "    def get(self, key):\n",
    "        return self.cache.get(key)\n",
    "\n",
    "# Example Usage\n",
    "cache = SimpleCache(5)\n",
    "cache.put(\"page1\", \"content of page 1\")\n",
    "cache.put(\"page2\", \"content of page 2\")\n",
    "print(cache.get(\"page1\"))  # Output: content of page 1\n",
    "print(cache.get(\"page2\"))  # Output: content of page 2"
   ]
  },
  {
   "cell_type": "markdown",
   "metadata": {},
   "source": [
    "### 3. Storing and Retrieving User Information"
   ]
  },
  {
   "cell_type": "code",
   "execution_count": 5,
   "metadata": {},
   "outputs": [
    {
     "name": "stdout",
     "output_type": "stream",
     "text": [
      "{'name': 'Alice', 'age': 30}\n",
      "{'name': 'Bob', 'age': 25}\n",
      "Index 0: []\n",
      "Index 1: []\n",
      "Index 2: [['user1', {'name': 'Alice', 'age': 30}]]\n",
      "Index 3: []\n",
      "Index 4: []\n",
      "Index 5: []\n",
      "Index 6: [['user2', {'name': 'Bob', 'age': 25}]]\n",
      "Index 7: []\n",
      "Index 8: []\n",
      "Index 9: []\n"
     ]
    }
   ],
   "source": [
    "ht = HashTable(10)\n",
    "ht.insert(\"user1\", {\"name\": \"Alice\", \"age\": 30})\n",
    "ht.insert(\"user2\", {\"name\": \"Bob\", \"age\": 25})\n",
    "print(ht.get(\"user1\"))  # Output: {'name': 'Alice', 'age': 30}\n",
    "print(ht.get(\"user2\"))  # Output: {'name': 'Bob', 'age': 25}\n",
    "ht.display()"
   ]
  },
  {
   "cell_type": "markdown",
   "metadata": {},
   "source": [
    "### 4. Word Frequency Counter"
   ]
  },
  {
   "cell_type": "code",
   "execution_count": 4,
   "metadata": {},
   "outputs": [
    {
     "name": "stdout",
     "output_type": "stream",
     "text": [
      "Index 0: [['lazy', 1]]\n",
      "Index 1: []\n",
      "Index 2: [['was', 1]]\n",
      "Index 3: []\n",
      "Index 4: []\n",
      "Index 5: []\n",
      "Index 6: []\n",
      "Index 7: []\n",
      "Index 8: [['fox', 2]]\n",
      "Index 9: []\n",
      "Index 10: []\n",
      "Index 11: []\n",
      "Index 12: [['quick', 2]]\n",
      "Index 13: [['the', 3]]\n",
      "Index 14: []\n",
      "Index 15: [['over', 1]]\n",
      "Index 16: []\n",
      "Index 17: []\n",
      "Index 18: [['brown', 1]]\n",
      "Index 19: []\n",
      "Index 20: []\n",
      "Index 21: []\n",
      "Index 22: []\n",
      "Index 23: []\n",
      "Index 24: []\n",
      "Index 25: []\n",
      "Index 26: []\n",
      "Index 27: []\n",
      "Index 28: []\n",
      "Index 29: [['jumps', 1]]\n",
      "Index 30: []\n",
      "Index 31: []\n",
      "Index 32: []\n",
      "Index 33: []\n",
      "Index 34: []\n",
      "Index 35: [['dog', 1]]\n",
      "Index 36: []\n",
      "Index 37: []\n",
      "Index 38: []\n",
      "Index 39: []\n",
      "Index 40: []\n",
      "Index 41: []\n",
      "Index 42: []\n",
      "Index 43: []\n",
      "Index 44: []\n",
      "Index 45: []\n",
      "Index 46: []\n",
      "Index 47: []\n",
      "Index 48: []\n",
      "Index 49: []\n"
     ]
    }
   ],
   "source": [
    "def count_words(text):\n",
    "    words = text.split()\n",
    "    ht = HashTable(50)\n",
    "    for word in words:\n",
    "        count = ht.get(word)\n",
    "        if count is None:\n",
    "            ht.insert(word, 1)\n",
    "        else:\n",
    "            ht.insert(word, count + 1)\n",
    "    return ht\n",
    "\n",
    "# Example Usage\n",
    "text = \"the quick brown fox jumps over the lazy dog the fox was quick\"\n",
    "word_count = count_words(text)\n",
    "word_count.display()\n",
    "# Example Output: {'the': 3, 'quick': 2, 'brown': 1, 'fox': 2, 'jumps': 1, 'over': 1, 'lazy': 1, 'dog': 1, 'was': 1}\n"
   ]
  },
  {
   "cell_type": "markdown",
   "metadata": {},
   "source": [
    "### 5. Implementing a Set"
   ]
  },
  {
   "cell_type": "markdown",
   "metadata": {},
   "source": []
  },
  {
   "cell_type": "code",
   "execution_count": 3,
   "metadata": {},
   "outputs": [
    {
     "name": "stdout",
     "output_type": "stream",
     "text": [
      "True\n",
      "False\n"
     ]
    }
   ],
   "source": [
    "class HashSet:\n",
    "    def __init__(self, size):\n",
    "        self.table = HashTable(size)\n",
    "\n",
    "    def add(self, value):\n",
    "        if not self.contains(value):\n",
    "            self.table.insert(value, True)\n",
    "\n",
    "    def contains(self, value):\n",
    "        return self.table.get(value) is not None\n",
    "\n",
    "    def remove(self, value):\n",
    "        self.table.delete(value)\n",
    "\n",
    "# Example Usage\n",
    "hs = HashSet(10)\n",
    "hs.add(1)\n",
    "hs.add(2)\n",
    "hs.add(3)\n",
    "print(hs.contains(2))  # Output: True\n",
    "hs.remove(2)\n",
    "print(hs.contains(2))  # Output: False\n"
   ]
  },
  {
   "cell_type": "code",
   "execution_count": null,
   "metadata": {},
   "outputs": [],
   "source": []
  }
 ],
 "metadata": {
  "kernelspec": {
   "display_name": "Python 3",
   "language": "python",
   "name": "python3"
  },
  "language_info": {
   "codemirror_mode": {
    "name": "ipython",
    "version": 3
   },
   "file_extension": ".py",
   "mimetype": "text/x-python",
   "name": "python",
   "nbconvert_exporter": "python",
   "pygments_lexer": "ipython3",
   "version": "3.11.4"
  }
 },
 "nbformat": 4,
 "nbformat_minor": 2
}
