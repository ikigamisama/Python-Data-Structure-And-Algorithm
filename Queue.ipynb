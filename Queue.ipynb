{
 "cells": [
  {
   "cell_type": "markdown",
   "metadata": {},
   "source": [
    "# Queue "
   ]
  },
  {
   "cell_type": "markdown",
   "metadata": {},
   "source": [
    "####  is a linear data structure that follows the First-In-First-Out (FIFO) principle. This means that the first element added to the queue is the first one to be removed. The main operations of a queue are:\n",
    "\n",
    "#### 1. **Enqueue**: Add an element to the end of the queue.\n",
    "#### 2. **Dequeue**: Remove the element from the front of the queue.\n",
    "#### 3. **Front**: Get the front element of the queue without removing it.\n",
    "#### 4. **IsEmpty**: Check if the queue is empty."
   ]
  },
  {
   "cell_type": "markdown",
   "metadata": {},
   "source": [
    "## Sample Implementation"
   ]
  },
  {
   "cell_type": "code",
   "execution_count": 1,
   "metadata": {},
   "outputs": [
    {
     "name": "stdout",
     "output_type": "stream",
     "text": [
      "[1, 2, 3]\n",
      "1\n",
      "[2, 3]\n",
      "2\n"
     ]
    }
   ],
   "source": [
    "class Queue:\n",
    "    def __init__(self):\n",
    "        self.queue = []\n",
    "\n",
    "    def enqueue(self, item):\n",
    "        self.queue.append(item)\n",
    "\n",
    "    def dequeue(self):\n",
    "        if not self.is_empty():\n",
    "            return self.queue.pop(0)\n",
    "        return None\n",
    "\n",
    "    def front(self):\n",
    "        if not self.is_empty():\n",
    "            return self.queue[0]\n",
    "        return None\n",
    "\n",
    "    def is_empty(self):\n",
    "        return len(self.queue) == 0\n",
    "\n",
    "    def display(self):\n",
    "        print(self.queue)\n",
    "\n",
    "# Example Usage\n",
    "queue = Queue()\n",
    "queue.enqueue(1)\n",
    "queue.enqueue(2)\n",
    "queue.enqueue(3)\n",
    "queue.display()  \n",
    "print(queue.dequeue()) \n",
    "queue.display()  \n",
    "print(queue.front()) \n"
   ]
  },
  {
   "cell_type": "markdown",
   "metadata": {},
   "source": [
    "## Usage"
   ]
  },
  {
   "cell_type": "markdown",
   "metadata": {},
   "source": [
    "#### 1. **Print Queue**: Used in operating systems to manage print jobs.\n",
    "#### 2. **Task Scheduling**: Used in task scheduling algorithms where tasks are added to the queue and executed in order.\n",
    "#### 3. **Breadth-First Search**: Used in graph algorithms to explore nodes level by level.\n",
    "#### 4. **Message Queues**: Used in inter-process communication to manage messages between processes.\n",
    "#### 5. **Real-time Systems**: Used in real-time systems to manage tasks that need to be executed in a specific order."
   ]
  },
  {
   "cell_type": "markdown",
   "metadata": {},
   "source": [
    "## Example"
   ]
  },
  {
   "cell_type": "markdown",
   "metadata": {},
   "source": [
    "### 1. Print Queue"
   ]
  },
  {
   "cell_type": "code",
   "execution_count": 3,
   "metadata": {},
   "outputs": [
    {
     "name": "stdout",
     "output_type": "stream",
     "text": [
      "Processing job: Print document 1\n",
      "Processing job: Print document 2\n"
     ]
    }
   ],
   "source": [
    "class PrintQueue:\n",
    "    def __init__(self):\n",
    "        self.queue = Queue()\n",
    "\n",
    "    def add_job(self, job):\n",
    "        self.queue.enqueue(job)\n",
    "\n",
    "    def process_job(self):\n",
    "        if not self.queue.is_empty():\n",
    "            job = self.queue.dequeue()\n",
    "            print(f\"Processing job: {job}\")\n",
    "\n",
    "# Example Usage\n",
    "pq = PrintQueue()\n",
    "pq.add_job(\"Print document 1\")\n",
    "pq.add_job(\"Print document 2\")\n",
    "pq.process_job()  \n",
    "pq.process_job()  \n"
   ]
  },
  {
   "cell_type": "markdown",
   "metadata": {},
   "source": [
    "### 2. Task Scheduler"
   ]
  },
  {
   "cell_type": "code",
   "execution_count": 4,
   "metadata": {},
   "outputs": [
    {
     "name": "stdout",
     "output_type": "stream",
     "text": [
      "Running task: Task 1\n",
      "Running task: Task 2\n"
     ]
    }
   ],
   "source": [
    "class TaskScheduler:\n",
    "    def __init__(self):\n",
    "        self.queue = Queue()\n",
    "\n",
    "    def add_task(self, task):\n",
    "        self.queue.enqueue(task)\n",
    "\n",
    "    def run_task(self):\n",
    "        if not self.queue.is_empty():\n",
    "            task = self.queue.dequeue()\n",
    "            print(f\"Running task: {task}\")\n",
    "\n",
    "# Example Usage\n",
    "ts = TaskScheduler()\n",
    "ts.add_task(\"Task 1\")\n",
    "ts.add_task(\"Task 2\")\n",
    "ts.run_task()\n",
    "ts.run_task()\n"
   ]
  },
  {
   "cell_type": "markdown",
   "metadata": {},
   "source": [
    "### 3. Breadth-First Search"
   ]
  },
  {
   "cell_type": "code",
   "execution_count": 5,
   "metadata": {},
   "outputs": [
    {
     "name": "stdout",
     "output_type": "stream",
     "text": [
      "A C B F D E "
     ]
    }
   ],
   "source": [
    "from collections import deque\n",
    "\n",
    "def bfs(graph, start):\n",
    "    visited = set()\n",
    "    queue = deque([start])\n",
    "    while queue:\n",
    "        vertex = queue.popleft()\n",
    "        if vertex not in visited:\n",
    "            print(vertex, end=\" \")\n",
    "            visited.add(vertex)\n",
    "            queue.extend(graph[vertex] - visited)\n",
    "\n",
    "# Example Usage\n",
    "graph = {\n",
    "    'A': {'B', 'C'},\n",
    "    'B': {'A', 'D', 'E'},\n",
    "    'C': {'A', 'F'},\n",
    "    'D': {'B'},\n",
    "    'E': {'B', 'F'},\n",
    "    'F': {'C', 'E'}\n",
    "}\n",
    "bfs(graph, 'A')  # Output: A B C D E F\n"
   ]
  },
  {
   "cell_type": "markdown",
   "metadata": {},
   "source": [
    "### 4. Message Queue"
   ]
  },
  {
   "cell_type": "code",
   "execution_count": 7,
   "metadata": {},
   "outputs": [
    {
     "name": "stdout",
     "output_type": "stream",
     "text": [
      "Message 1\n",
      "Message 2\n"
     ]
    }
   ],
   "source": [
    "class MessageQueue:\n",
    "    def __init__(self):\n",
    "        self.queue = Queue()\n",
    "\n",
    "    def send_message(self, message):\n",
    "        self.queue.enqueue(message)\n",
    "\n",
    "    def receive_message(self):\n",
    "        if not self.queue.is_empty():\n",
    "            return self.queue.dequeue()\n",
    "        return \"No messages\"\n",
    "\n",
    "# Example Usage\n",
    "mq = MessageQueue()\n",
    "mq.send_message(\"Message 1\")\n",
    "mq.send_message(\"Message 2\")\n",
    "print(mq.receive_message())\n",
    "print(mq.receive_message())\n"
   ]
  },
  {
   "cell_type": "markdown",
   "metadata": {},
   "source": [
    "### 5. Real-time System Task Management"
   ]
  },
  {
   "cell_type": "code",
   "execution_count": 8,
   "metadata": {},
   "outputs": [
    {
     "name": "stdout",
     "output_type": "stream",
     "text": [
      "Executing task: Real-time task 1\n",
      "Executing task: Real-time task 2\n"
     ]
    }
   ],
   "source": [
    "class RealTimeSystem:\n",
    "    def __init__(self):\n",
    "        self.queue = Queue()\n",
    "\n",
    "    def add_task(self, task):\n",
    "        self.queue.enqueue(task)\n",
    "\n",
    "    def execute_task(self):\n",
    "        if not self.queue.is_empty():\n",
    "            task = self.queue.dequeue()\n",
    "            print(f\"Executing task: {task}\")\n",
    "\n",
    "# Example Usage\n",
    "rts = RealTimeSystem()\n",
    "rts.add_task(\"Real-time task 1\")\n",
    "rts.add_task(\"Real-time task 2\")\n",
    "rts.execute_task()\n",
    "rts.execute_task()\n"
   ]
  },
  {
   "cell_type": "markdown",
   "metadata": {},
   "source": []
  }
 ],
 "metadata": {
  "kernelspec": {
   "display_name": "Python 3",
   "language": "python",
   "name": "python3"
  },
  "language_info": {
   "codemirror_mode": {
    "name": "ipython",
    "version": 3
   },
   "file_extension": ".py",
   "mimetype": "text/x-python",
   "name": "python",
   "nbconvert_exporter": "python",
   "pygments_lexer": "ipython3",
   "version": "3.11.4"
  }
 },
 "nbformat": 4,
 "nbformat_minor": 2
}
